{
  "nbformat": 4,
  "nbformat_minor": 0,
  "metadata": {
    "colab": {
      "provenance": [],
      "toc_visible": true
    },
    "kernelspec": {
      "name": "python3",
      "display_name": "Python 3"
    },
    "language_info": {
      "name": "python"
    }
  },
  "cells": [
    {
      "cell_type": "markdown",
      "source": [
        "# **1**\n",
        " A university wants to understand the relationship between the SAT scores of its\n",
        "applicants and their college GPA. They collect data on 500 students, including their SAT\n",
        "scores (out of 1600) and their college GPA (on a 4.0 scale). They find that the correlation\n",
        "coefficient between SAT scores and college GPA is 0.7. What does this correlation\n",
        "coefficient indicate about the relationship between SAT scores and college GPA?\n",
        "\n",
        "Answer:\n",
        "\n",
        "Correlation coefficient is a stastical measure the strength of relationship between two variables. We will be using the Pearson values to determine the coefficient. It ranges from -1 to 1. If the coeeficent value is -1 between SAT score and GPA then we can say they are negatively correlated. If it is 1 then we can say they are positively correlated. If it is 0 then there is no correlation between the STA score and GPA.\n"
      ],
      "metadata": {
        "id": "n5zy-fB1bR6g"
      }
    },
    {
      "cell_type": "markdown",
      "source": [
        "# **2**\n",
        " Consider a dataset containing the heights (in centimeters) of 1000 individuals. The\n",
        "mean height is 170 cm with a standard deviation of 10 cm. The dataset is approximately\n",
        "normally distributed, and its skewness is approximately zero. Based on this information,\n",
        "answer the following questions:\n"
      ],
      "metadata": {
        "id": "typ6xHV5bWDI"
      }
    },
    {
      "cell_type": "markdown",
      "source": [
        "# 2A\n",
        " What percentage of individuals in the dataset have heights between 160 cm and 180 cm?\n",
        "\n",
        "Answer: Since it is a normal distrubition with mean 170 cm  and std of 10 cm the 160 cm and 180 cn fall with in 1 std. If it fall within 1 std it will be 68 percent.\n"
      ],
      "metadata": {
        "id": "Hzgj1ntEbhN0"
      }
    },
    {
      "cell_type": "markdown",
      "source": [
        "# 2B\n",
        "  If we randomly select 100 individuals from the dataset, what is the probability that their average height is greater than 175 cm?\n",
        "\n",
        "Answer:\n",
        "calculate z score using the z=(x-u)/(sigma) we will be getting z=0.5 and corresponding probability value is 0.69146. probability that their average height greater than 175=1-0.69146=0.30 30 percentage of students will have average height greater than 175 cm.\n"
      ],
      "metadata": {
        "id": "vU_zXkn_b1Iy"
      }
    },
    {
      "cell_type": "markdown",
      "source": [
        "# 2C\n",
        " Assuming the dataset follows a normal distribution, what is the z-score corresponding to a height of 185 cm?\n",
        "\n",
        "Ans:  z=(185-170)/10=1.5 and corresponding z value is 0.93319.\n"
      ],
      "metadata": {
        "id": "4B9b6P6ucXEQ"
      }
    },
    {
      "cell_type": "markdown",
      "source": [
        "# 2D \n",
        "We know that 5% of the dataset has heights below a certain value. What is the approximate height corresponding to this threshold?\n",
        "\n",
        "\n",
        "Answer: \n",
        "\n",
        "Height below 150 cm and height above 190 cm will contibute to that 5 percent."
      ],
      "metadata": {
        "id": "AnTDfOppcqYs"
      }
    },
    {
      "cell_type": "markdown",
      "source": [
        "# 2E\n",
        " Calculate the coefficient of variation (CV) for the dataset.\n",
        "\n",
        "Ans: cv=(10/170)*100=5.88. It tells std is 5.88 percent of mean."
      ],
      "metadata": {
        "id": "jr-ndvaCcyeX"
      }
    },
    {
      "cell_type": "markdown",
      "source": [
        "# 2F\n",
        " Calculate the skewness of the dataset and interpret the result.\n",
        "\n",
        "Ans: The skewness is zero since it is perfectly normal distrubution."
      ],
      "metadata": {
        "id": "PO-5Oqi7c_i5"
      }
    },
    {
      "cell_type": "markdown",
      "source": [
        "# Q_3\n",
        "\n",
        "Consider the ‘Blood Pressure Before’ and ‘Blood Pressure After’ columns from the\n",
        "data and calculate the following\n",
        "https://drive.google.com/file/d/1mCjtYHiX--mMUjicuaP2gH3k-SnFxt8Y/view?usp=share_\n"
      ],
      "metadata": {
        "id": "89-sy97qdKpL"
      }
    },
    {
      "cell_type": "code",
      "source": [
        "#Question_a: Measure the dispersion in both and interpret the results.\n",
        "import pandas as pd\n",
        "df=pd.read_csv('/content/data.csv') # reading the CSV file\n",
        "# for measuring dispersion we are calculating Range, Variance, standard deviation\n",
        "# Range_calculation: It is difference between max and mix value\n",
        "Range_BP_after=(df[' Blood Pressure After (mmHg)'].max())-(df[' Blood Pressure After (mmHg)'].min())\n",
        "Range_BP_before=(df[' Blood Pressure Before (mmHg)'].max())-(df[' Blood Pressure Before (mmHg)'].min())\n",
        "print(f\"The Range for BP_after is {Range_BP_after} and The Range for BP_before is {Range_BP_before}\")\n",
        "# calculating the variance\n",
        "variance_BP_after=df[' Blood Pressure After (mmHg)'].var()\n",
        "variance_BP_before=df[' Blood Pressure Before (mmHg)'].var()\n",
        "print(f\"The variance  for BP_after is {variance_BP_after} and the variance for BP_before is {variance_BP_before}\")\n",
        "#calculating the standard deviation:\n",
        "std_BP_after=df[' Blood Pressure After (mmHg)'].std()\n",
        "std_BP_before=df[' Blood Pressure Before (mmHg)'].std()\n",
        "\n",
        "print(f\"The std for BP_after is {std_BP_after} and the std for BP_before is {std_BP_before}\")"
      ],
      "metadata": {
        "colab": {
          "base_uri": "https://localhost:8080/"
        },
        "id": "hyXAbE8cdVfK",
        "outputId": "a54bdb50-a9fc-440c-8fe1-d30a2c14dc3c"
      },
      "execution_count": 4,
      "outputs": [
        {
          "output_type": "stream",
          "name": "stdout",
          "text": [
            "The Range for BP_after is 23 and The Range for BP_before is 28\n",
            "The variance  for BP_after is 47.44484848484848 and the variance for BP_before is 43.53727272727272\n",
            "The std for BP_after is 6.888022102523226 and the std for BP_before is 6.598278012275076\n"
          ]
        }
      ]
    },
    {
      "cell_type": "code",
      "source": [
        "df[' Blood Pressure After (mmHg)'].mean()"
      ],
      "metadata": {
        "colab": {
          "base_uri": "https://localhost:8080/"
        },
        "id": "wTgaMGCd8YE5",
        "outputId": "907c889e-25e0-456c-dbec-f88545387aad"
      },
      "execution_count": 5,
      "outputs": [
        {
          "output_type": "execute_result",
          "data": {
            "text/plain": [
              "128.36"
            ]
          },
          "metadata": {},
          "execution_count": 5
        }
      ]
    },
    {
      "cell_type": "code",
      "source": [
        "#Question_b:\n",
        "# Calculate mean and 5% confidence interval and plot it in a graph\n",
        "\n",
        "mean_BP_after=df[' Blood Pressure After (mmHg)'].mean()\n",
        "mean_BP_before=df[' Blood Pressure Before (mmHg)'].mean()\n",
        "print(f\"The mean for BP_after is {mean_BP_after} and the mean for BP_before is {mean_BP_before}\")\n",
        "\n",
        "import numpy as np\n",
        "import scipy.stats as st\n",
        "\n",
        "\n",
        "\n",
        "data_before = list(df[' Blood Pressure Before (mmHg)'])\n",
        "data_after = list(df[' Blood Pressure Before (mmHg)'])\n",
        "\n",
        "\n",
        "#create 95% confidence interval for population mean weight\n",
        "#st.norm.interval(alpha=0.95, loc=128.36, scale=st.sem(data_before))\n",
        "\n",
        "c_i_before=st.t.interval(confidence=0.95, df=len(df[' Blood Pressure Before (mmHg)']),\n",
        "              loc=133.91,\n",
        "              scale=st.sem(data_before))\n",
        "c_i_after=st.t.interval(confidence=0.95, df=len(df[' Blood Pressure After (mmHg)']),\n",
        "              loc=128.36,\n",
        "              scale=st.sem(data_after))\n",
        "\n",
        "print(f\"The CI for BP_after is {c_i_after} and the CI for BP_before is {c_i_before}\")\n",
        "\n",
        "\n",
        "\n",
        "df[' Blood Pressure Before (mmHg)'].plot(kind='kde')\n",
        "\n"
      ],
      "metadata": {
        "colab": {
          "base_uri": "https://localhost:8080/",
          "height": 482
        },
        "id": "iBNsbhOXegHO",
        "outputId": "1cecbfd6-ae30-4428-ea81-cb8b9ca41c5b"
      },
      "execution_count": 6,
      "outputs": [
        {
          "output_type": "stream",
          "name": "stdout",
          "text": [
            "The mean for BP_after is 128.36 and the mean for BP_before is 133.91\n",
            "The CI for BP_after is (127.05092043528339, 129.66907956471664) and the CI for BP_before is (132.60092043528337, 135.21907956471662)\n"
          ]
        },
        {
          "output_type": "execute_result",
          "data": {
            "text/plain": [
              "<Axes: ylabel='Density'>"
            ]
          },
          "metadata": {},
          "execution_count": 6
        },
        {
          "output_type": "display_data",
          "data": {
            "text/plain": [
              "<Figure size 640x480 with 1 Axes>"
            ],
            "image/png": "[encoded data removed]"
          },
          "metadata": {}
        }
      ]
    },
    {
      "cell_type": "code",
      "source": [
        "#distubution plot for BP After dosage\n",
        "df[' Blood Pressure After (mmHg)'].plot(kind='kde')"
      ],
      "metadata": {
        "colab": {
          "base_uri": "https://localhost:8080/",
          "height": 447
        },
        "id": "K5oGKZym_7HA",
        "outputId": "efc9678f-eb1c-4b56-e303-1610887ca093"
      },
      "execution_count": 7,
      "outputs": [
        {
          "output_type": "execute_result",
          "data": {
            "text/plain": [
              "<Axes: ylabel='Density'>"
            ]
          },
          "metadata": {},
          "execution_count": 7
        },
        {
          "output_type": "display_data",
          "data": {
            "text/plain": [
              "<Figure size 640x480 with 1 Axes>"
            ],
            "image/png": "[encoded data removed]"
          },
          "metadata": {}
        }
      ]
    },
    {
      "cell_type": "markdown",
      "source": [
        "Question_3: Calculate the Mean absolute deviation and Standard deviation"
      ],
      "metadata": {
        "id": "Fq_Q-3q4ATJ2"
      }
    },
    {
      "cell_type": "code",
      "source": [
        "# Mean absolute deviation:\n",
        "mad_after=df[' Blood Pressure After (mmHg)'].mad()\n",
        "mad_before=df[' Blood Pressure Before (mmHg)'].mad()\n",
        "print(f\"The mean absolute deviation for BP_after is {mad_after} and the mean absolute deviation for BP_before is {mad_before}\")"
      ],
      "metadata": {
        "colab": {
          "base_uri": "https://localhost:8080/"
        },
        "id": "UO24UHrCAIaj",
        "outputId": "6a73f02a-35de-4457-b538-f70b37064823"
      },
      "execution_count": 8,
      "outputs": [
        {
          "output_type": "stream",
          "name": "stdout",
          "text": [
            "The mean absolute deviation for BP_after is 5.9 and the mean absolute deviation for BP_before is 5.7118\n"
          ]
        },
        {
          "output_type": "stream",
          "name": "stderr",
          "text": [
            "<ipython-input-8-4922f7d4eeb4>:2: FutureWarning: The 'mad' method is deprecated and will be removed in a future version. To compute the same result, you may do `(df - df.mean()).abs().mean()`.\n",
            "  mad_after=df[' Blood Pressure After (mmHg)'].mad()\n",
            "<ipython-input-8-4922f7d4eeb4>:3: FutureWarning: The 'mad' method is deprecated and will be removed in a future version. To compute the same result, you may do `(df - df.mean()).abs().mean()`.\n",
            "  mad_before=df[' Blood Pressure Before (mmHg)'].mad()\n"
          ]
        }
      ]
    },
    {
      "cell_type": "code",
      "source": [
        "#std:\n",
        "\n",
        "std_after=df[' Blood Pressure After (mmHg)'].std()\n",
        "std_before=df[' Blood Pressure Before (mmHg)'].std()\n",
        "print(f\"The standard deviation for BP_after is {std_after} and the standard deviation for BP_before is {std_before}\")"
      ],
      "metadata": {
        "colab": {
          "base_uri": "https://localhost:8080/"
        },
        "id": "Q15ycVlABRi_",
        "outputId": "a388eb7a-093a-40ea-e10a-652bd78250cd"
      },
      "execution_count": 9,
      "outputs": [
        {
          "output_type": "stream",
          "name": "stdout",
          "text": [
            "The standard deviation for BP_after is 6.888022102523226 and the standard deviation for BP_before is 6.598278012275076\n"
          ]
        }
      ]
    },
    {
      "cell_type": "markdown",
      "source": [
        "\n",
        "\n",
        "Calculate the correlation coefficient and check the significance of it at 1% level"
      ],
      "metadata": {
        "id": "EZI28lCoBhlm"
      }
    },
    {
      "cell_type": "code",
      "source": [
        "from scipy.stats.stats import pearsonr\n",
        "\n",
        "#calculation correlation coefficient and p-value between x and y\n",
        "pearsonr(df[' Blood Pressure After (mmHg)'],df[' Blood Pressure Before (mmHg)'])\n",
        "\n",
        "#(0.8076177030748631, 0.004717255828132089)"
      ],
      "metadata": {
        "colab": {
          "base_uri": "https://localhost:8080/"
        },
        "id": "9PkOqPMHBhFc",
        "outputId": "a159f54a-6bce-4533-fa7c-cdb955a258f8"
      },
      "execution_count": 10,
      "outputs": [
        {
          "output_type": "stream",
          "name": "stderr",
          "text": [
            "<ipython-input-10-a350623fbcdf>:1: DeprecationWarning: Please use `pearsonr` from the `scipy.stats` namespace, the `scipy.stats.stats` namespace is deprecated.\n",
            "  from scipy.stats.stats import pearsonr\n"
          ]
        },
        {
          "output_type": "execute_result",
          "data": {
            "text/plain": [
              "PearsonRResult(statistic=0.9779485966556017, pvalue=1.8097381433068578e-68)"
            ]
          },
          "metadata": {},
          "execution_count": 10
        }
      ]
    },
    {
      "cell_type": "markdown",
      "source": [
        "# Q_4:\n",
        " A group of 20 friends decide to play a game in which they each write a number\n",
        "between 1 and 20 on a slip of paper and put it into a hat. They then draw one slip of paper\n",
        "at random. What is the probability that the number on the slip of paper is a perfect square\n",
        "(i.e., 1, 4, 9, or 16)?\n"
      ],
      "metadata": {
        "id": "q1x-YiyOCeWp"
      }
    },
    {
      "cell_type": "markdown",
      "source": [
        "**Answer:**\n",
        "\n",
        "P(perfect_square)=4/20=0.2\n",
        "\n",
        "Probablity of a getting perfect square=0.2"
      ],
      "metadata": {
        "id": "RkoFaaKTClfL"
      }
    },
    {
      "cell_type": "markdown",
      "source": [
        "**Question 5:**\n",
        "\n",
        " A certain city has two taxi companies: Company A has 80% of the taxis and\n",
        "Company B has 20% of the taxis. Company A's taxis have a 95% success rate for picking\n",
        "up passengers on time, while Company B's taxis have a 90% success rate. If a randomly\n",
        "selected taxi is late, what is the probability that it belongs to Company A?\n"
      ],
      "metadata": {
        "id": "NSNLHCfUC6az"
      }
    },
    {
      "cell_type": "markdown",
      "source": [
        "**Answer:**\n",
        "Probability of A is 0.8\n",
        "\n",
        "Probability of not A is 0.2 which is probability of B.\n",
        "\n",
        "Probability of picking intime by A given A is 0.95\n",
        "\n",
        "Probability of not picking intime by A given A is 0.05\n",
        "\n",
        "Probability of picking intime by B given B is 0.9\n",
        "\n",
        "Probability of not picking intime by B given B is 0.1\n",
        "\n",
        "probability=(0.8*0.05)/(0.8*0.05+0.1*0.2)=0.6667\n",
        "\n",
        "probability that taxi is late and it belongs to company A is 67%.\n",
        "\n",
        "\n",
        "\n",
        "\n",
        "\n",
        "\n"
      ],
      "metadata": {
        "id": "zWCwDn9UEfyk"
      }
    },
    {
      "cell_type": "markdown",
      "source": [
        "# Question 6:\n",
        "\n",
        " To check if the change in Blood pressure before and after  follows the normal distrubution.\n",
        "\n"
      ],
      "metadata": {
        "id": "pGf45155egzc"
      }
    },
    {
      "cell_type": "code",
      "source": [
        "import scipy.stats as stats\n",
        "import matplotlib.pyplot as plt\n",
        "df['bp_change']= df[' Blood Pressure After (mmHg)']-df[' Blood Pressure Before (mmHg)']\n",
        "stats.probplot(df['bp_change'], dist=\"norm\", plot=plt)"
      ],
      "metadata": {
        "colab": {
          "base_uri": "https://localhost:8080/",
          "height": 975
        },
        "id": "JVD3ADU4gVsp",
        "outputId": "e8d750f1-2717-40e6-e522-28b8819ef60a"
      },
      "execution_count": 15,
      "outputs": [
        {
          "output_type": "execute_result",
          "data": {
            "text/plain": [
              "((array([-2.46203784, -2.12570747, -1.93122778, -1.79044653, -1.67819304,\n",
              "         -1.58381122, -1.50174123, -1.42869743, -1.36256869, -1.30191411,\n",
              "         -1.24570419, -1.19317644, -1.14374949, -1.09696931, -1.05247413,\n",
              "         -1.00997067, -0.96921765, -0.93001393, -0.89218993, -0.85560121,\n",
              "         -0.82012357, -0.78564937, -0.75208458, -0.71934648, -0.68736185,\n",
              "         -0.65606548, -0.62539893, -0.59530962, -0.56574992, -0.53667655,\n",
              "         -0.50804994, -0.47983378, -0.45199463, -0.42450149, -0.39732558,\n",
              "         -0.37044003, -0.34381966, -0.31744076, -0.29128096, -0.26531902,\n",
              "         -0.23953472, -0.21390872, -0.18842244, -0.16305799, -0.13779803,\n",
              "         -0.1126257 , -0.08752455, -0.06247843, -0.03747145, -0.01248789,\n",
              "          0.01248789,  0.03747145,  0.06247843,  0.08752455,  0.1126257 ,\n",
              "          0.13779803,  0.16305799,  0.18842244,  0.21390872,  0.23953472,\n",
              "          0.26531902,  0.29128096,  0.31744076,  0.34381966,  0.37044003,\n",
              "          0.39732558,  0.42450149,  0.45199463,  0.47983378,  0.50804994,\n",
              "          0.53667655,  0.56574992,  0.59530962,  0.62539893,  0.65606548,\n",
              "          0.68736185,  0.71934648,  0.75208458,  0.78564937,  0.82012357,\n",
              "          0.85560121,  0.89218993,  0.93001393,  0.96921765,  1.00997067,\n",
              "          1.05247413,  1.09696931,  1.14374949,  1.19317644,  1.24570419,\n",
              "          1.30191411,  1.36256869,  1.42869743,  1.50174123,  1.58381122,\n",
              "          1.67819304,  1.79044653,  1.93122778,  2.12570747,  2.46203784]),\n",
              "  array([-10,  -9,  -8,  -8,  -8,  -8,  -8,  -7,  -7,  -7,  -7,  -7,  -7,\n",
              "          -7,  -7,  -7,  -7,  -7,  -7,  -7,  -7,  -7,  -7,  -7,  -7,  -7,\n",
              "          -6,  -6,  -6,  -6,  -6,  -6,  -6,  -6,  -6,  -6,  -6,  -6,  -6,\n",
              "          -6,  -6,  -6,  -6,  -6,  -6,  -6,  -6,  -6,  -6,  -6,  -6,  -6,\n",
              "          -5,  -5,  -5,  -5,  -5,  -5,  -5,  -5,  -5,  -5,  -5,  -5,  -5,\n",
              "          -5,  -5,  -5,  -5,  -5,  -5,  -5,  -5,  -5,  -4,  -4,  -4,  -4,\n",
              "          -4,  -4,  -4,  -4,  -4,  -4,  -4,  -4,  -4,  -4,  -4,  -4,  -4,\n",
              "          -4,  -4,  -4,  -3,  -3,  -3,  -3,  -3,  -2])),\n",
              " (1.4313978794499167, -5.55, 0.9755519143535925))"
            ]
          },
          "metadata": {},
          "execution_count": 15
        },
        {
          "output_type": "display_data",
          "data": {
            "text/plain": [
              "<Figure size 640x480 with 1 Axes>"
            ],
            "image/png": "[encoded data removed]"
          },
          "metadata": {}
        }
      ]
    },
    {
      "cell_type": "code",
      "source": [
        "# Shapiro-Wilk Test\n",
        "\n",
        "from scipy.stats import shapiro\n",
        "\n",
        "# normality test\n",
        "stat, p = shapiro(df['bp_change'])\n",
        "print('Statistics=%.3f, p=%.3f' % (stat, p))\n",
        "# interpret\n",
        "alpha = 0.05\n",
        "if p > alpha:\n",
        " print('Sample looks Gaussian (fail to reject H0)')\n",
        "else:\n",
        " print('Sample does not look Gaussian (reject H0)')"
      ],
      "metadata": {
        "colab": {
          "base_uri": "https://localhost:8080/"
        },
        "id": "sAhcJVcOx08S",
        "outputId": "654f0e59-b09e-4308-d492-ae7acc15410b"
      },
      "execution_count": 16,
      "outputs": [
        {
          "output_type": "stream",
          "name": "stdout",
          "text": [
            "Statistics=0.954, p=0.001\n",
            "Sample does not look Gaussian (reject H0)\n"
          ]
        }
      ]
    },
    {
      "cell_type": "markdown",
      "source": [
        "# **Question_7**\n",
        " The equations of two lines of regression, obtained in a correlation analysis\n",
        "between variables X and Y are as follows:\n",
        "and . 2𝑋 + 3 − 8 = 0 2𝑌 + 𝑋 − 5 = 0 The variance of 𝑋 = 4 Find the\n",
        "a. Variance of Y\n",
        "b. Coefficient of determination of C and Y\n",
        "c. Standard error of estimate of X on Y and of Y on X.\n"
      ],
      "metadata": {
        "id": "dtfHXokkzlaS"
      }
    },
    {
      "cell_type": "markdown",
      "source": [
        "y=−0.5x+2.5   \n",
        "m1=-0.5\n",
        "x=−1.5y+4\n",
        "m2=-1.5\n",
        "r^2=0.75\n",
        "r=±0.866\n",
        "\n",
        "b. Coeeficient of variation = -0.866\n",
        "\n",
        "a. Variance of y (sigma^2)=4\n",
        "\n",
        "c. Standard error of estimate of X on Y and Y on X:\n",
        "The standard error of estimate represents the standard deviation of the residuals (the differences between the observed and predicted values) in the regression analysis.\n",
        "\n",
        "To find the standard error of estimate of X on Y, we need to find the standard deviation of the residuals in equation (1).\n",
        "\n",
        "Rearranging equation (1) to solve for 𝑌 in terms of 𝑋:\n",
        "𝑌 = (8 - 2𝑋) / 3\n",
        "\n",
        "Substituting the given value of 𝑋 = 1 into this equation:\n",
        "𝑌 = (8 - 2(1)) / 3 = 6 / 3 = 2\n",
        "\n",
        "Now, calculate the residual by subtracting the observed 𝑌 value (2) from the predicted 𝑌 value (2 from the equation):\n",
        "Residual = 2 - 2 = 0\n",
        "\n",
        "Since we only have one data point, the standard error of estimate of X on Y is 0.\n",
        "\n",
        "To find the standard error of estimate of Y on X, we need to find the standard deviation of the residuals in equation (2).\n",
        "\n",
        "Rearranging equation (2) to solve for 𝑌 in terms of 𝑋:\n",
        "𝑌 = 5\n",
        "\n",
        "\n",
        "\n",
        "\n",
        "\n",
        "\n",
        "\n",
        "\n"
      ],
      "metadata": {
        "id": "xnGz3S0H4AYA"
      }
    },
    {
      "cell_type": "markdown",
      "source": [
        "# Q-8. \n",
        "The anxiety levels of 10 participants were measured before and after a new therapy.\n",
        "The scores are not normally distributed. Use the Wilcoxon signed-rank test to test whether\n",
        "the therapy had a significant effect on anxiety levels. The data is given below: Participant\n",
        "Before therapy After therapy Difference\n",
        "\n"
      ],
      "metadata": {
        "id": "OsLswjaI45Sb"
      }
    },
    {
      "cell_type": "code",
      "source": [
        "from scipy.stats import wilcoxon\n",
        "\n",
        "# Data\n",
        "before_therapy = [10, 8, 12, 15, 6, 9, 11, 7, 14, 10]\n",
        "after_therapy = [7, 6, 10, 12, 5, 8, 9, 6, 12, 8]\n",
        "\n",
        "# Perform Wilcoxon signed-rank test\n",
        "statistic, p_value = wilcoxon(before_therapy, after_therapy)\n",
        "\n",
        "# Output results\n",
        "print(\"Wilcoxon signed-rank test:\")\n",
        "print(\"Statistic:\", statistic)\n",
        "print(\"p-value:\", p_value)\n"
      ],
      "metadata": {
        "colab": {
          "base_uri": "https://localhost:8080/"
        },
        "id": "nkWAMAiwymbV",
        "outputId": "9891e146-44c7-430c-e117-0640f730bd9c"
      },
      "execution_count": 17,
      "outputs": [
        {
          "output_type": "stream",
          "name": "stdout",
          "text": [
            "Wilcoxon signed-rank test:\n",
            "Statistic: 0.0\n",
            "p-value: 0.001953125\n"
          ]
        }
      ]
    },
    {
      "cell_type": "markdown",
      "source": [
        "# QUES:9\n",
        "Test the hypothesis that the mean scores of all the students are the same. If not, name the\n",
        "student with the highest score."
      ],
      "metadata": {
        "id": "yczgRG86FYFq"
      }
    },
    {
      "cell_type": "code",
      "source": [
        "import pandas as pd\n",
        "import scipy.stats as stats\n",
        "\n",
        "# Student scores\n",
        "scores = {\n",
        "    'name': ['a', 'b', 'c', 'd', 'e'],\n",
        "    'exam_1': [85, 70, 90, 75, 95],\n",
        "    'exam_2': [90, 80, 85, 70, 92],\n",
        "    'final_exam': [92, 85, 88, 75, 96]\n",
        "}\n",
        "\n",
        "# Create a DataFrame from the scores dictionary\n",
        "df = pd.DataFrame(scores)\n",
        "\n",
        "# Perform one-way ANOVA\n",
        "f_statistic, p_value = stats.f_oneway(df['exam_1'], df['exam_2'], df['final_exam'])\n",
        "\n",
        "# Output ANOVA results\n",
        "print(\"One-way ANOVA test:\")\n",
        "print(\"F-statistic:\", f_statistic)\n",
        "print(\"p-value:\", p_value)\n",
        "\n",
        "# Find the student with the highest score\n",
        "df['total_score'] = df['exam_1'] + df['exam_2'] + df['final_exam']\n",
        "highest_score_student = df.loc[df['total_score'].idxmax(), 'name']\n",
        "highest_score = df['total_score'].max()\n",
        "print(\"Student with the highest score:\", highest_score_student)\n",
        "print(\"Highest score:\", highest_score)\n"
      ],
      "metadata": {
        "colab": {
          "base_uri": "https://localhost:8080/"
        },
        "id": "QGuEsqxPGmn1",
        "outputId": "b3b5f93e-8eb8-4041-ec26-91fc8f87f9f0"
      },
      "execution_count": 18,
      "outputs": [
        {
          "output_type": "stream",
          "name": "stdout",
          "text": [
            "One-way ANOVA test:\n",
            "F-statistic: 0.3236947791164659\n",
            "p-value: 0.7295954253321559\n",
            "Student with the highest score: e\n",
            "Highest score: 283\n"
          ]
        }
      ]
    },
    {
      "cell_type": "markdown",
      "source": [
        "# Q-10. \n",
        "A factory produces light bulbs, and the probability of a bulb being defective is 0.05.\n",
        "The factory produces a large batch of 500 light bulbs.\n",
        "a. What is the probability that exactly 20 bulbs are defective?\n",
        "b. What is the probability that at least 10 bulbs are defective?\n",
        "c. What is the probability that at max 15 bulbs are defective?\n",
        "d. On average, how many defective bulbs would you expect in a batch of 500?"
      ],
      "metadata": {
        "id": "Gx0MH_IyIRBT"
      }
    },
    {
      "cell_type": "markdown",
      "source": [
        "To solve these we can use the binomial probability formula. In the binomial distribution, we have the following parameters:\n",
        "\n",
        "n: Number of trials (in this case, the number of light bulbs in the batch, which is 500).\n",
        "p: Probability of success (in this case, the probability of a bulb being defective, which is 0.05).\n",
        "x: Number of successful trials (the number of defective bulbs).\n",
        "\n",
        "# A.\n",
        " To find the probability that exactly 20 bulbs are defective:\n",
        "We use the binomial probability formula: P(x) = nCx * p^x * (1 - p)^(n - x)\n",
        "P(20) = 500C20 * 0.05^20 * (1 - 0.05)^(500 - 20)=0.04\n",
        "\n",
        "# B\n",
        " To find the probability that at least 10 bulbs are defective:\n",
        "We can find the probability of 0 to 9 bulbs being defective and subtract that from 1.\n",
        "P(at least 10) = 1 - P(0 to 9)\n",
        "P(at least 10) = 1 - (P(0) + P(1) + P(2) + ... + P(9))= 0.9997 or 99.97%.\n",
        "\n",
        "# C\n",
        " To find the probability that at most 15 bulbs are defective:\n",
        "We can find the probability of 0 to 15 bulbs being defective and sum them up.\n",
        "P(at most 15) = P(0) + P(1) + P(2) + ... + P(15)= 0.9995 or 99.95%.\n",
        "\n",
        "# D\n",
        "On average, the number of defective bulbs we would expect in a batch of 500 can be calculated using the expected value formula:\n",
        "Expected value (μ) = n * p\n",
        "Expected value (μ) = 500 * 0.05\n",
        "Expected value (μ) = 25\n",
        "\n",
        "Therefore, on average, we would expect 25 defective bulbs in a batch of 500.\n"
      ],
      "metadata": {
        "id": "eedreR2BI8Rm"
      }
    },
    {
      "cell_type": "markdown",
      "source": [
        "# Q-11.\n",
        "\n",
        " Given the data of a feature contributing to different classes\n",
        "a. Check whether the distribution of all the classes are the same or not.\n",
        "b. Check for the equality of variance/\n",
        "c. Which amount LDA and QDA would perform better on this data for\n",
        "classification and why.\n",
        "d. Check the equality of mean for between all the classes."
      ],
      "metadata": {
        "id": "L3gIJCHSLJND"
      }
    },
    {
      "cell_type": "code",
      "source": [
        "import scipy.stats as stats\n",
        "import pandas as pd\n",
        "\n",
        "# Blood pressure data\n",
        "df = pd.read_csv('data.csv')\n",
        "\n",
        "# a. Paired t-test\n",
        "t_statistic, p_value = stats.ttest_rel(df[' Blood Pressure Before (mmHg)'],\n",
        "                                       df[' Blood Pressure After (mmHg)'])\n",
        "print(f\"a. Paired t-test: t = {t_statistic}, p-value = {p_value}\")\n",
        "\n",
        "# b. Levene's test for equality of variance\n",
        "statistic, p_value = stats.levene(df[' Blood Pressure Before (mmHg)'],\n",
        "                                  df[' Blood Pressure After (mmHg)'])\n",
        "print(f\"b. Levene's test: statistic = {statistic}, p-value = {p_value}\")\n",
        "\n",
        "# c. More information needed about classes or groups for LDA and QDA comparison\n",
        "\n",
        "# d. Paired t-test for equality of means\n",
        "t_statistic, p_value = stats.ttest_rel(df[' Blood Pressure Before (mmHg)'],\n",
        "                                       df[' Blood Pressure After (mmHg)'])\n",
        "print(f\"d. Paired t-test for means: t = {t_statistic}, p-value = {p_value}\")\n"
      ],
      "metadata": {
        "colab": {
          "base_uri": "https://localhost:8080/"
        },
        "id": "67dF0HirIX0Y",
        "outputId": "46e84e21-8419-43cd-ad14-540731afb045"
      },
      "execution_count": 21,
      "outputs": [
        {
          "output_type": "stream",
          "name": "stdout",
          "text": [
            "a. Paired t-test: t = 38.40500458621546, p-value = 2.817165090364283e-61\n",
            "b. Levene's test: statistic = 0.18038002140150966, p-value = 0.6715080090945376\n",
            "d. Paired t-test for means: t = 38.40500458621546, p-value = 2.817165090364283e-61\n"
          ]
        }
      ]
    },
    {
      "cell_type": "markdown",
      "source": [
        "# Que:12\n",
        " \n",
        " A pharmaceutical company develops a new drug and wants to compare its\n",
        "effectiveness against a standard drug for treating a particular condition. They conduct a\n",
        "study with two groups: Group A receives the new drug, and Group B receives the standard\n",
        "drug. The company measures the improvement in a specific symptom for both groups after\n",
        "a 4-week treatment period.\n",
        "a. The company collects data from 30 patients in each group and calculates the\n",
        "mean improvement score and the standard deviation of improvement for each\n",
        "group. The mean improvement score for Group A is 2.5 with a standard\n",
        "deviation of 0.8, while the mean improvement score for Group B is 2.2 with a\n",
        "standard deviation of 0.6. Conduct a t-test to determine if there is a significant\n",
        "difference in the mean improvement scores between the two groups. Use a\n",
        "significance level of 0.05.\n",
        "b. Based on the t-test results, state whether the null hypothesis should be\n",
        "rejected or not. Provide a conclusion in the context of the study.\n"
      ],
      "metadata": {
        "id": "iKGaPTAINltc"
      }
    },
    {
      "cell_type": "code",
      "source": [
        "import scipy.stats as stats\n",
        "\n",
        "# Group A data\n",
        "mean_A = 2.5\n",
        "std_A = 0.8\n",
        "n_A = 30\n",
        "\n",
        "# Group B data\n",
        "mean_B = 2.2\n",
        "std_B = 0.6\n",
        "n_B = 30\n",
        "\n",
        "# Conduct t-test\n",
        "t_statistic, p_value = stats.ttest_ind_from_stats(mean_A, std_A, n_A, mean_B, std_B, n_B)\n",
        "\n",
        "# Print results\n",
        "print(f\"t-statistic: {t_statistic}\")\n",
        "print(f\"p-value: {p_value}\")\n"
      ],
      "metadata": {
        "colab": {
          "base_uri": "https://localhost:8080/"
        },
        "id": "ORS2FOAgNbms",
        "outputId": "f82751d6-0441-4979-c507-c48860c79a12"
      },
      "execution_count": 22,
      "outputs": [
        {
          "output_type": "stream",
          "name": "stdout",
          "text": [
            "t-statistic: 1.6431676725154976\n",
            "p-value: 0.10575916705583671\n"
          ]
        }
      ]
    },
    {
      "cell_type": "markdown",
      "source": [
        "a. The t-test is conducted to determine if there is a significant difference in the mean improvement scores between Group A and Group B. The significance level is set to 0.05.\n",
        "\n",
        "b. Based on the t-test results, we compare the p-value to the significance level (0.05) to make a conclusion. If the p-value is less than 0.05, we reject the null hypothesis. If the p-value is greater than or equal to 0.05, we fail to reject the null hypothesis. We receive p value as 0.1. so we failed to reject the null hypothesis\n"
      ],
      "metadata": {
        "id": "Asd4oq1PNyBN"
      }
    },
    {
      "cell_type": "code",
      "source": [],
      "metadata": {
        "id": "_LAE_LfHORxu"
      },
      "execution_count": null,
      "outputs": []
    }
  ]
}