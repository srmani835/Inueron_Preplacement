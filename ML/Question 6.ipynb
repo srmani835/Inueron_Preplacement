{
 "cells": [
  {
   "attachments": {},
   "cell_type": "markdown",
   "id": "fa0599e6",
   "metadata": {},
   "source": [
    "## Problem Statement :-\n",
    "\n",
    "**Q6.** Imagine you have a dataset where you have predicted loan Eligibility using any\n",
    "4 different classification algorithms. Now you have to build a model which can\n",
    "predict loan Eligibility and you need to find the accuracy of the model and built-in\n",
    "docker and use some library to display that in frontend\n",
    "\n",
    "Dataset :- Dataset is not avalable for this question\n",
    "\n"
   ]
  },
  {
   "attachments": {},
   "cell_type": "markdown",
   "id": "be62b024",
   "metadata": {},
   "source": [
    "# NOTE :- \n",
    "### Dataset link is not Available for this question, due to Private DataSource Mode is Enable,\n",
    "#### So, Can't Able to solve this Problem"
   ]
  },
  {
   "cell_type": "code",
   "execution_count": null,
   "id": "06fef6a8",
   "metadata": {},
   "outputs": [],
   "source": []
  }
 ],
 "metadata": {
  "kernelspec": {
   "display_name": "Python 3 (ipykernel)",
   "language": "python",
   "name": "python3"
  },
  "language_info": {
   "codemirror_mode": {
    "name": "ipython",
    "version": 3
   },
   "file_extension": ".py",
   "mimetype": "text/x-python",
   "name": "python",
   "nbconvert_exporter": "python",
   "pygments_lexer": "ipython3",
   "version": "3.9.7"
  }
 },
 "nbformat": 4,
 "nbformat_minor": 5
}
