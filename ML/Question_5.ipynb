{
 "cells": [
  {
   "cell_type": "markdown",
   "metadata": {},
   "source": [
    "# 1. Importing Library and Dataset"
   ]
  },
  {
   "cell_type": "code",
   "execution_count": 1,
   "metadata": {
    "execution": {
     "iopub.execute_input": "2022-04-21T12:38:15.297571Z",
     "iopub.status.busy": "2022-04-21T12:38:15.297127Z",
     "iopub.status.idle": "2022-04-21T12:38:16.570220Z",
     "shell.execute_reply": "2022-04-21T12:38:16.569136Z",
     "shell.execute_reply.started": "2022-04-21T12:38:15.297527Z"
    }
   },
   "outputs": [],
   "source": [
    "import pandas as pd\n",
    "import numpy as np\n",
    "import matplotlib.pyplot as plt\n",
    "import seaborn as sns\n",
    "import plotly.express as px\n",
    "pd.options.display.max_rows = None\n",
    "pd.options.display.max_columns = None"
   ]
  },
  {
   "cell_type": "code",
   "execution_count": 2,
   "metadata": {
    "execution": {
     "iopub.execute_input": "2022-04-21T12:38:16.571991Z",
     "iopub.status.busy": "2022-04-21T12:38:16.571726Z",
     "iopub.status.idle": "2022-04-21T12:38:27.076429Z",
     "shell.execute_reply": "2022-04-21T12:38:27.075544Z",
     "shell.execute_reply.started": "2022-04-21T12:38:16.571956Z"
    }
   },
   "outputs": [
    {
     "data": {
      "text/html": [
       "<div>\n",
       "<style scoped>\n",
       "    .dataframe tbody tr th:only-of-type {\n",
       "        vertical-align: middle;\n",
       "    }\n",
       "\n",
       "    .dataframe tbody tr th {\n",
       "        vertical-align: top;\n",
       "    }\n",
       "\n",
       "    .dataframe thead th {\n",
       "        text-align: right;\n",
       "    }\n",
       "</style>\n",
       "<table border=\"1\" class=\"dataframe\">\n",
       "  <thead>\n",
       "    <tr style=\"text-align: right;\">\n",
       "      <th></th>\n",
       "      <th>id</th>\n",
       "      <th>timestamp</th>\n",
       "      <th>hour</th>\n",
       "      <th>day</th>\n",
       "      <th>month</th>\n",
       "      <th>datetime</th>\n",
       "      <th>timezone</th>\n",
       "      <th>source</th>\n",
       "      <th>destination</th>\n",
       "      <th>cab_type</th>\n",
       "      <th>product_id</th>\n",
       "      <th>name</th>\n",
       "      <th>price</th>\n",
       "      <th>distance</th>\n",
       "      <th>surge_multiplier</th>\n",
       "      <th>latitude</th>\n",
       "      <th>longitude</th>\n",
       "      <th>temperature</th>\n",
       "      <th>apparentTemperature</th>\n",
       "      <th>short_summary</th>\n",
       "      <th>long_summary</th>\n",
       "      <th>precipIntensity</th>\n",
       "      <th>precipProbability</th>\n",
       "      <th>humidity</th>\n",
       "      <th>windSpeed</th>\n",
       "      <th>windGust</th>\n",
       "      <th>windGustTime</th>\n",
       "      <th>visibility</th>\n",
       "      <th>temperatureHigh</th>\n",
       "      <th>temperatureHighTime</th>\n",
       "      <th>temperatureLow</th>\n",
       "      <th>temperatureLowTime</th>\n",
       "      <th>apparentTemperatureHigh</th>\n",
       "      <th>apparentTemperatureHighTime</th>\n",
       "      <th>apparentTemperatureLow</th>\n",
       "      <th>apparentTemperatureLowTime</th>\n",
       "      <th>icon</th>\n",
       "      <th>dewPoint</th>\n",
       "      <th>pressure</th>\n",
       "      <th>windBearing</th>\n",
       "      <th>cloudCover</th>\n",
       "      <th>uvIndex</th>\n",
       "      <th>visibility.1</th>\n",
       "      <th>ozone</th>\n",
       "      <th>sunriseTime</th>\n",
       "      <th>sunsetTime</th>\n",
       "      <th>moonPhase</th>\n",
       "      <th>precipIntensityMax</th>\n",
       "      <th>uvIndexTime</th>\n",
       "      <th>temperatureMin</th>\n",
       "      <th>temperatureMinTime</th>\n",
       "      <th>temperatureMax</th>\n",
       "      <th>temperatureMaxTime</th>\n",
       "      <th>apparentTemperatureMin</th>\n",
       "      <th>apparentTemperatureMinTime</th>\n",
       "      <th>apparentTemperatureMax</th>\n",
       "      <th>apparentTemperatureMaxTime</th>\n",
       "    </tr>\n",
       "  </thead>\n",
       "  <tbody>\n",
       "    <tr>\n",
       "      <th>0</th>\n",
       "      <td>424553bb-7174-41ea-aeb4-fe06d4f4b9d7</td>\n",
       "      <td>1.544953e+09</td>\n",
       "      <td>9</td>\n",
       "      <td>16</td>\n",
       "      <td>12</td>\n",
       "      <td>2018-12-16 09:30:07</td>\n",
       "      <td>America/New_York</td>\n",
       "      <td>Haymarket Square</td>\n",
       "      <td>North Station</td>\n",
       "      <td>Lyft</td>\n",
       "      <td>lyft_line</td>\n",
       "      <td>Shared</td>\n",
       "      <td>5.0</td>\n",
       "      <td>0.44</td>\n",
       "      <td>1.0</td>\n",
       "      <td>42.2148</td>\n",
       "      <td>-71.033</td>\n",
       "      <td>42.34</td>\n",
       "      <td>37.12</td>\n",
       "      <td>Mostly Cloudy</td>\n",
       "      <td>Rain throughout the day.</td>\n",
       "      <td>0.0000</td>\n",
       "      <td>0.0</td>\n",
       "      <td>0.68</td>\n",
       "      <td>8.66</td>\n",
       "      <td>9.17</td>\n",
       "      <td>1545015600</td>\n",
       "      <td>10.000</td>\n",
       "      <td>43.68</td>\n",
       "      <td>1544968800</td>\n",
       "      <td>34.19</td>\n",
       "      <td>1545048000</td>\n",
       "      <td>37.95</td>\n",
       "      <td>1544968800</td>\n",
       "      <td>27.39</td>\n",
       "      <td>1545044400</td>\n",
       "      <td>partly-cloudy-night</td>\n",
       "      <td>32.70</td>\n",
       "      <td>1021.98</td>\n",
       "      <td>57</td>\n",
       "      <td>0.72</td>\n",
       "      <td>0</td>\n",
       "      <td>10.000</td>\n",
       "      <td>303.8</td>\n",
       "      <td>1544962084</td>\n",
       "      <td>1544994864</td>\n",
       "      <td>0.30</td>\n",
       "      <td>0.1276</td>\n",
       "      <td>1544979600</td>\n",
       "      <td>39.89</td>\n",
       "      <td>1545012000</td>\n",
       "      <td>43.68</td>\n",
       "      <td>1544968800</td>\n",
       "      <td>33.73</td>\n",
       "      <td>1545012000</td>\n",
       "      <td>38.07</td>\n",
       "      <td>1544958000</td>\n",
       "    </tr>\n",
       "    <tr>\n",
       "      <th>1</th>\n",
       "      <td>4bd23055-6827-41c6-b23b-3c491f24e74d</td>\n",
       "      <td>1.543284e+09</td>\n",
       "      <td>2</td>\n",
       "      <td>27</td>\n",
       "      <td>11</td>\n",
       "      <td>2018-11-27 02:00:23</td>\n",
       "      <td>America/New_York</td>\n",
       "      <td>Haymarket Square</td>\n",
       "      <td>North Station</td>\n",
       "      <td>Lyft</td>\n",
       "      <td>lyft_premier</td>\n",
       "      <td>Lux</td>\n",
       "      <td>11.0</td>\n",
       "      <td>0.44</td>\n",
       "      <td>1.0</td>\n",
       "      <td>42.2148</td>\n",
       "      <td>-71.033</td>\n",
       "      <td>43.58</td>\n",
       "      <td>37.35</td>\n",
       "      <td>Rain</td>\n",
       "      <td>Rain until morning, starting again in the eve...</td>\n",
       "      <td>0.1299</td>\n",
       "      <td>1.0</td>\n",
       "      <td>0.94</td>\n",
       "      <td>11.98</td>\n",
       "      <td>11.98</td>\n",
       "      <td>1543291200</td>\n",
       "      <td>4.786</td>\n",
       "      <td>47.30</td>\n",
       "      <td>1543251600</td>\n",
       "      <td>42.10</td>\n",
       "      <td>1543298400</td>\n",
       "      <td>43.92</td>\n",
       "      <td>1543251600</td>\n",
       "      <td>36.20</td>\n",
       "      <td>1543291200</td>\n",
       "      <td>rain</td>\n",
       "      <td>41.83</td>\n",
       "      <td>1003.97</td>\n",
       "      <td>90</td>\n",
       "      <td>1.00</td>\n",
       "      <td>0</td>\n",
       "      <td>4.786</td>\n",
       "      <td>291.1</td>\n",
       "      <td>1543232969</td>\n",
       "      <td>1543266992</td>\n",
       "      <td>0.64</td>\n",
       "      <td>0.1300</td>\n",
       "      <td>1543251600</td>\n",
       "      <td>40.49</td>\n",
       "      <td>1543233600</td>\n",
       "      <td>47.30</td>\n",
       "      <td>1543251600</td>\n",
       "      <td>36.20</td>\n",
       "      <td>1543291200</td>\n",
       "      <td>43.92</td>\n",
       "      <td>1543251600</td>\n",
       "    </tr>\n",
       "    <tr>\n",
       "      <th>2</th>\n",
       "      <td>981a3613-77af-4620-a42a-0c0866077d1e</td>\n",
       "      <td>1.543367e+09</td>\n",
       "      <td>1</td>\n",
       "      <td>28</td>\n",
       "      <td>11</td>\n",
       "      <td>2018-11-28 01:00:22</td>\n",
       "      <td>America/New_York</td>\n",
       "      <td>Haymarket Square</td>\n",
       "      <td>North Station</td>\n",
       "      <td>Lyft</td>\n",
       "      <td>lyft</td>\n",
       "      <td>Lyft</td>\n",
       "      <td>7.0</td>\n",
       "      <td>0.44</td>\n",
       "      <td>1.0</td>\n",
       "      <td>42.2148</td>\n",
       "      <td>-71.033</td>\n",
       "      <td>38.33</td>\n",
       "      <td>32.93</td>\n",
       "      <td>Clear</td>\n",
       "      <td>Light rain in the morning.</td>\n",
       "      <td>0.0000</td>\n",
       "      <td>0.0</td>\n",
       "      <td>0.75</td>\n",
       "      <td>7.33</td>\n",
       "      <td>7.33</td>\n",
       "      <td>1543334400</td>\n",
       "      <td>10.000</td>\n",
       "      <td>47.55</td>\n",
       "      <td>1543320000</td>\n",
       "      <td>33.10</td>\n",
       "      <td>1543402800</td>\n",
       "      <td>44.12</td>\n",
       "      <td>1543320000</td>\n",
       "      <td>29.11</td>\n",
       "      <td>1543392000</td>\n",
       "      <td>clear-night</td>\n",
       "      <td>31.10</td>\n",
       "      <td>992.28</td>\n",
       "      <td>240</td>\n",
       "      <td>0.03</td>\n",
       "      <td>0</td>\n",
       "      <td>10.000</td>\n",
       "      <td>315.7</td>\n",
       "      <td>1543319437</td>\n",
       "      <td>1543353364</td>\n",
       "      <td>0.68</td>\n",
       "      <td>0.1064</td>\n",
       "      <td>1543338000</td>\n",
       "      <td>35.36</td>\n",
       "      <td>1543377600</td>\n",
       "      <td>47.55</td>\n",
       "      <td>1543320000</td>\n",
       "      <td>31.04</td>\n",
       "      <td>1543377600</td>\n",
       "      <td>44.12</td>\n",
       "      <td>1543320000</td>\n",
       "    </tr>\n",
       "    <tr>\n",
       "      <th>3</th>\n",
       "      <td>c2d88af2-d278-4bfd-a8d0-29ca77cc5512</td>\n",
       "      <td>1.543554e+09</td>\n",
       "      <td>4</td>\n",
       "      <td>30</td>\n",
       "      <td>11</td>\n",
       "      <td>2018-11-30 04:53:02</td>\n",
       "      <td>America/New_York</td>\n",
       "      <td>Haymarket Square</td>\n",
       "      <td>North Station</td>\n",
       "      <td>Lyft</td>\n",
       "      <td>lyft_luxsuv</td>\n",
       "      <td>Lux Black XL</td>\n",
       "      <td>26.0</td>\n",
       "      <td>0.44</td>\n",
       "      <td>1.0</td>\n",
       "      <td>42.2148</td>\n",
       "      <td>-71.033</td>\n",
       "      <td>34.38</td>\n",
       "      <td>29.63</td>\n",
       "      <td>Clear</td>\n",
       "      <td>Partly cloudy throughout the day.</td>\n",
       "      <td>0.0000</td>\n",
       "      <td>0.0</td>\n",
       "      <td>0.73</td>\n",
       "      <td>5.28</td>\n",
       "      <td>5.28</td>\n",
       "      <td>1543514400</td>\n",
       "      <td>10.000</td>\n",
       "      <td>45.03</td>\n",
       "      <td>1543510800</td>\n",
       "      <td>28.90</td>\n",
       "      <td>1543579200</td>\n",
       "      <td>38.53</td>\n",
       "      <td>1543510800</td>\n",
       "      <td>26.20</td>\n",
       "      <td>1543575600</td>\n",
       "      <td>clear-night</td>\n",
       "      <td>26.64</td>\n",
       "      <td>1013.73</td>\n",
       "      <td>310</td>\n",
       "      <td>0.00</td>\n",
       "      <td>0</td>\n",
       "      <td>10.000</td>\n",
       "      <td>291.1</td>\n",
       "      <td>1543492370</td>\n",
       "      <td>1543526114</td>\n",
       "      <td>0.75</td>\n",
       "      <td>0.0000</td>\n",
       "      <td>1543507200</td>\n",
       "      <td>34.67</td>\n",
       "      <td>1543550400</td>\n",
       "      <td>45.03</td>\n",
       "      <td>1543510800</td>\n",
       "      <td>30.30</td>\n",
       "      <td>1543550400</td>\n",
       "      <td>38.53</td>\n",
       "      <td>1543510800</td>\n",
       "    </tr>\n",
       "    <tr>\n",
       "      <th>4</th>\n",
       "      <td>e0126e1f-8ca9-4f2e-82b3-50505a09db9a</td>\n",
       "      <td>1.543463e+09</td>\n",
       "      <td>3</td>\n",
       "      <td>29</td>\n",
       "      <td>11</td>\n",
       "      <td>2018-11-29 03:49:20</td>\n",
       "      <td>America/New_York</td>\n",
       "      <td>Haymarket Square</td>\n",
       "      <td>North Station</td>\n",
       "      <td>Lyft</td>\n",
       "      <td>lyft_plus</td>\n",
       "      <td>Lyft XL</td>\n",
       "      <td>9.0</td>\n",
       "      <td>0.44</td>\n",
       "      <td>1.0</td>\n",
       "      <td>42.2148</td>\n",
       "      <td>-71.033</td>\n",
       "      <td>37.44</td>\n",
       "      <td>30.88</td>\n",
       "      <td>Partly Cloudy</td>\n",
       "      <td>Mostly cloudy throughout the day.</td>\n",
       "      <td>0.0000</td>\n",
       "      <td>0.0</td>\n",
       "      <td>0.70</td>\n",
       "      <td>9.14</td>\n",
       "      <td>9.14</td>\n",
       "      <td>1543446000</td>\n",
       "      <td>10.000</td>\n",
       "      <td>42.18</td>\n",
       "      <td>1543420800</td>\n",
       "      <td>36.71</td>\n",
       "      <td>1543478400</td>\n",
       "      <td>35.75</td>\n",
       "      <td>1543420800</td>\n",
       "      <td>30.29</td>\n",
       "      <td>1543460400</td>\n",
       "      <td>partly-cloudy-night</td>\n",
       "      <td>28.61</td>\n",
       "      <td>998.36</td>\n",
       "      <td>303</td>\n",
       "      <td>0.44</td>\n",
       "      <td>0</td>\n",
       "      <td>10.000</td>\n",
       "      <td>347.7</td>\n",
       "      <td>1543405904</td>\n",
       "      <td>1543439738</td>\n",
       "      <td>0.72</td>\n",
       "      <td>0.0001</td>\n",
       "      <td>1543420800</td>\n",
       "      <td>33.10</td>\n",
       "      <td>1543402800</td>\n",
       "      <td>42.18</td>\n",
       "      <td>1543420800</td>\n",
       "      <td>29.11</td>\n",
       "      <td>1543392000</td>\n",
       "      <td>35.75</td>\n",
       "      <td>1543420800</td>\n",
       "    </tr>\n",
       "  </tbody>\n",
       "</table>\n",
       "</div>"
      ],
      "text/plain": [
       "                                     id     timestamp  hour  day  month  \\\n",
       "0  424553bb-7174-41ea-aeb4-fe06d4f4b9d7  1.544953e+09     9   16     12   \n",
       "1  4bd23055-6827-41c6-b23b-3c491f24e74d  1.543284e+09     2   27     11   \n",
       "2  981a3613-77af-4620-a42a-0c0866077d1e  1.543367e+09     1   28     11   \n",
       "3  c2d88af2-d278-4bfd-a8d0-29ca77cc5512  1.543554e+09     4   30     11   \n",
       "4  e0126e1f-8ca9-4f2e-82b3-50505a09db9a  1.543463e+09     3   29     11   \n",
       "\n",
       "              datetime          timezone            source    destination  \\\n",
       "0  2018-12-16 09:30:07  America/New_York  Haymarket Square  North Station   \n",
       "1  2018-11-27 02:00:23  America/New_York  Haymarket Square  North Station   \n",
       "2  2018-11-28 01:00:22  America/New_York  Haymarket Square  North Station   \n",
       "3  2018-11-30 04:53:02  America/New_York  Haymarket Square  North Station   \n",
       "4  2018-11-29 03:49:20  America/New_York  Haymarket Square  North Station   \n",
       "\n",
       "  cab_type    product_id          name  price  distance  surge_multiplier  \\\n",
       "0     Lyft     lyft_line        Shared    5.0      0.44               1.0   \n",
       "1     Lyft  lyft_premier           Lux   11.0      0.44               1.0   \n",
       "2     Lyft          lyft          Lyft    7.0      0.44               1.0   \n",
       "3     Lyft   lyft_luxsuv  Lux Black XL   26.0      0.44               1.0   \n",
       "4     Lyft     lyft_plus       Lyft XL    9.0      0.44               1.0   \n",
       "\n",
       "   latitude  longitude  temperature  apparentTemperature    short_summary  \\\n",
       "0   42.2148    -71.033        42.34                37.12   Mostly Cloudy    \n",
       "1   42.2148    -71.033        43.58                37.35            Rain    \n",
       "2   42.2148    -71.033        38.33                32.93           Clear    \n",
       "3   42.2148    -71.033        34.38                29.63           Clear    \n",
       "4   42.2148    -71.033        37.44                30.88   Partly Cloudy    \n",
       "\n",
       "                                        long_summary  precipIntensity  \\\n",
       "0                          Rain throughout the day.            0.0000   \n",
       "1   Rain until morning, starting again in the eve...           0.1299   \n",
       "2                        Light rain in the morning.            0.0000   \n",
       "3                 Partly cloudy throughout the day.            0.0000   \n",
       "4                 Mostly cloudy throughout the day.            0.0000   \n",
       "\n",
       "   precipProbability  humidity  windSpeed  windGust  windGustTime  visibility  \\\n",
       "0                0.0      0.68       8.66      9.17    1545015600      10.000   \n",
       "1                1.0      0.94      11.98     11.98    1543291200       4.786   \n",
       "2                0.0      0.75       7.33      7.33    1543334400      10.000   \n",
       "3                0.0      0.73       5.28      5.28    1543514400      10.000   \n",
       "4                0.0      0.70       9.14      9.14    1543446000      10.000   \n",
       "\n",
       "   temperatureHigh  temperatureHighTime  temperatureLow  temperatureLowTime  \\\n",
       "0            43.68           1544968800           34.19          1545048000   \n",
       "1            47.30           1543251600           42.10          1543298400   \n",
       "2            47.55           1543320000           33.10          1543402800   \n",
       "3            45.03           1543510800           28.90          1543579200   \n",
       "4            42.18           1543420800           36.71          1543478400   \n",
       "\n",
       "   apparentTemperatureHigh  apparentTemperatureHighTime  \\\n",
       "0                    37.95                   1544968800   \n",
       "1                    43.92                   1543251600   \n",
       "2                    44.12                   1543320000   \n",
       "3                    38.53                   1543510800   \n",
       "4                    35.75                   1543420800   \n",
       "\n",
       "   apparentTemperatureLow  apparentTemperatureLowTime                   icon  \\\n",
       "0                   27.39                  1545044400   partly-cloudy-night    \n",
       "1                   36.20                  1543291200                  rain    \n",
       "2                   29.11                  1543392000           clear-night    \n",
       "3                   26.20                  1543575600           clear-night    \n",
       "4                   30.29                  1543460400   partly-cloudy-night    \n",
       "\n",
       "   dewPoint  pressure  windBearing  cloudCover  uvIndex  visibility.1  ozone  \\\n",
       "0     32.70   1021.98           57        0.72        0        10.000  303.8   \n",
       "1     41.83   1003.97           90        1.00        0         4.786  291.1   \n",
       "2     31.10    992.28          240        0.03        0        10.000  315.7   \n",
       "3     26.64   1013.73          310        0.00        0        10.000  291.1   \n",
       "4     28.61    998.36          303        0.44        0        10.000  347.7   \n",
       "\n",
       "   sunriseTime  sunsetTime  moonPhase  precipIntensityMax  uvIndexTime  \\\n",
       "0   1544962084  1544994864       0.30              0.1276   1544979600   \n",
       "1   1543232969  1543266992       0.64              0.1300   1543251600   \n",
       "2   1543319437  1543353364       0.68              0.1064   1543338000   \n",
       "3   1543492370  1543526114       0.75              0.0000   1543507200   \n",
       "4   1543405904  1543439738       0.72              0.0001   1543420800   \n",
       "\n",
       "   temperatureMin  temperatureMinTime  temperatureMax  temperatureMaxTime  \\\n",
       "0           39.89          1545012000           43.68          1544968800   \n",
       "1           40.49          1543233600           47.30          1543251600   \n",
       "2           35.36          1543377600           47.55          1543320000   \n",
       "3           34.67          1543550400           45.03          1543510800   \n",
       "4           33.10          1543402800           42.18          1543420800   \n",
       "\n",
       "   apparentTemperatureMin  apparentTemperatureMinTime  apparentTemperatureMax  \\\n",
       "0                   33.73                  1545012000                   38.07   \n",
       "1                   36.20                  1543291200                   43.92   \n",
       "2                   31.04                  1543377600                   44.12   \n",
       "3                   30.30                  1543550400                   38.53   \n",
       "4                   29.11                  1543392000                   35.75   \n",
       "\n",
       "   apparentTemperatureMaxTime  \n",
       "0                  1544958000  \n",
       "1                  1543251600  \n",
       "2                  1543320000  \n",
       "3                  1543510800  \n",
       "4                  1543420800  "
      ]
     },
     "execution_count": 2,
     "metadata": {},
     "output_type": "execute_result"
    }
   ],
   "source": [
    "df=pd.read_csv(\"rideshare_kaggle.csv\")\n",
    "df.head()"
   ]
  },
  {
   "cell_type": "code",
   "execution_count": 3,
   "metadata": {
    "execution": {
     "iopub.execute_input": "2022-04-21T12:38:27.080648Z",
     "iopub.status.busy": "2022-04-21T12:38:27.079575Z",
     "iopub.status.idle": "2022-04-21T12:38:27.979676Z",
     "shell.execute_reply": "2022-04-21T12:38:27.977340Z",
     "shell.execute_reply.started": "2022-04-21T12:38:27.080596Z"
    },
    "scrolled": true
   },
   "outputs": [
    {
     "name": "stdout",
     "output_type": "stream",
     "text": [
      "<class 'pandas.core.frame.DataFrame'>\n",
      "RangeIndex: 693071 entries, 0 to 693070\n",
      "Data columns (total 57 columns):\n",
      " #   Column                       Non-Null Count   Dtype  \n",
      "---  ------                       --------------   -----  \n",
      " 0   id                           693071 non-null  object \n",
      " 1   timestamp                    693071 non-null  float64\n",
      " 2   hour                         693071 non-null  int64  \n",
      " 3   day                          693071 non-null  int64  \n",
      " 4   month                        693071 non-null  int64  \n",
      " 5   datetime                     693071 non-null  object \n",
      " 6   timezone                     693071 non-null  object \n",
      " 7   source                       693071 non-null  object \n",
      " 8   destination                  693071 non-null  object \n",
      " 9   cab_type                     693071 non-null  object \n",
      " 10  product_id                   693071 non-null  object \n",
      " 11  name                         693071 non-null  object \n",
      " 12  price                        637976 non-null  float64\n",
      " 13  distance                     693071 non-null  float64\n",
      " 14  surge_multiplier             693071 non-null  float64\n",
      " 15  latitude                     693071 non-null  float64\n",
      " 16  longitude                    693071 non-null  float64\n",
      " 17  temperature                  693071 non-null  float64\n",
      " 18  apparentTemperature          693071 non-null  float64\n",
      " 19  short_summary                693071 non-null  object \n",
      " 20  long_summary                 693071 non-null  object \n",
      " 21  precipIntensity              693071 non-null  float64\n",
      " 22  precipProbability            693071 non-null  float64\n",
      " 23  humidity                     693071 non-null  float64\n",
      " 24  windSpeed                    693071 non-null  float64\n",
      " 25  windGust                     693071 non-null  float64\n",
      " 26  windGustTime                 693071 non-null  int64  \n",
      " 27  visibility                   693071 non-null  float64\n",
      " 28  temperatureHigh              693071 non-null  float64\n",
      " 29  temperatureHighTime          693071 non-null  int64  \n",
      " 30  temperatureLow               693071 non-null  float64\n",
      " 31  temperatureLowTime           693071 non-null  int64  \n",
      " 32  apparentTemperatureHigh      693071 non-null  float64\n",
      " 33  apparentTemperatureHighTime  693071 non-null  int64  \n",
      " 34  apparentTemperatureLow       693071 non-null  float64\n",
      " 35  apparentTemperatureLowTime   693071 non-null  int64  \n",
      " 36  icon                         693071 non-null  object \n",
      " 37  dewPoint                     693071 non-null  float64\n",
      " 38  pressure                     693071 non-null  float64\n",
      " 39  windBearing                  693071 non-null  int64  \n",
      " 40  cloudCover                   693071 non-null  float64\n",
      " 41  uvIndex                      693071 non-null  int64  \n",
      " 42  visibility.1                 693071 non-null  float64\n",
      " 43  ozone                        693071 non-null  float64\n",
      " 44  sunriseTime                  693071 non-null  int64  \n",
      " 45  sunsetTime                   693071 non-null  int64  \n",
      " 46  moonPhase                    693071 non-null  float64\n",
      " 47  precipIntensityMax           693071 non-null  float64\n",
      " 48  uvIndexTime                  693071 non-null  int64  \n",
      " 49  temperatureMin               693071 non-null  float64\n",
      " 50  temperatureMinTime           693071 non-null  int64  \n",
      " 51  temperatureMax               693071 non-null  float64\n",
      " 52  temperatureMaxTime           693071 non-null  int64  \n",
      " 53  apparentTemperatureMin       693071 non-null  float64\n",
      " 54  apparentTemperatureMinTime   693071 non-null  int64  \n",
      " 55  apparentTemperatureMax       693071 non-null  float64\n",
      " 56  apparentTemperatureMaxTime   693071 non-null  int64  \n",
      "dtypes: float64(29), int64(17), object(11)\n",
      "memory usage: 301.4+ MB\n"
     ]
    }
   ],
   "source": [
    "df.info()"
   ]
  },
  {
   "cell_type": "code",
   "execution_count": 4,
   "metadata": {
    "execution": {
     "iopub.execute_input": "2022-04-21T12:38:27.981908Z",
     "iopub.status.busy": "2022-04-21T12:38:27.981585Z",
     "iopub.status.idle": "2022-04-21T12:38:28.235076Z",
     "shell.execute_reply": "2022-04-21T12:38:28.233987Z",
     "shell.execute_reply.started": "2022-04-21T12:38:27.981877Z"
    }
   },
   "outputs": [],
   "source": [
    "df['datetime']=pd.to_datetime(df['datetime'])"
   ]
  },
  {
   "cell_type": "markdown",
   "metadata": {},
   "source": [
    "### Data Cleaning"
   ]
  },
  {
   "cell_type": "code",
   "execution_count": 5,
   "metadata": {
    "execution": {
     "iopub.execute_input": "2022-04-21T12:38:28.236578Z",
     "iopub.status.busy": "2022-04-21T12:38:28.236325Z",
     "iopub.status.idle": "2022-04-21T12:38:29.048905Z",
     "shell.execute_reply": "2022-04-21T12:38:29.047833Z",
     "shell.execute_reply.started": "2022-04-21T12:38:28.236549Z"
    }
   },
   "outputs": [
    {
     "data": {
      "text/plain": [
       "55095"
      ]
     },
     "execution_count": 5,
     "metadata": {},
     "output_type": "execute_result"
    }
   ],
   "source": [
    "df.isnull().sum().sum()"
   ]
  },
  {
   "cell_type": "code",
   "execution_count": 6,
   "metadata": {
    "execution": {
     "iopub.execute_input": "2022-04-21T12:38:29.050751Z",
     "iopub.status.busy": "2022-04-21T12:38:29.050406Z",
     "iopub.status.idle": "2022-04-21T12:38:30.032855Z",
     "shell.execute_reply": "2022-04-21T12:38:30.031820Z",
     "shell.execute_reply.started": "2022-04-21T12:38:29.050717Z"
    }
   },
   "outputs": [],
   "source": [
    "df.dropna(axis=0,inplace=True)"
   ]
  },
  {
   "cell_type": "code",
   "execution_count": 7,
   "metadata": {
    "execution": {
     "iopub.execute_input": "2022-04-21T12:38:30.034416Z",
     "iopub.status.busy": "2022-04-21T12:38:30.034127Z",
     "iopub.status.idle": "2022-04-21T12:38:30.770745Z",
     "shell.execute_reply": "2022-04-21T12:38:30.769545Z",
     "shell.execute_reply.started": "2022-04-21T12:38:30.034382Z"
    }
   },
   "outputs": [
    {
     "data": {
      "text/plain": [
       "0"
      ]
     },
     "execution_count": 7,
     "metadata": {},
     "output_type": "execute_result"
    }
   ],
   "source": [
    "df.isnull().sum().sum()"
   ]
  },
  {
   "cell_type": "code",
   "execution_count": 8,
   "metadata": {
    "execution": {
     "iopub.execute_input": "2022-04-21T12:38:30.773763Z",
     "iopub.status.busy": "2022-04-21T12:38:30.773427Z",
     "iopub.status.idle": "2022-04-21T12:38:30.784516Z",
     "shell.execute_reply": "2022-04-21T12:38:30.783333Z",
     "shell.execute_reply.started": "2022-04-21T12:38:30.773728Z"
    }
   },
   "outputs": [
    {
     "data": {
      "text/plain": [
       "0    10.000\n",
       "1     4.786\n",
       "2    10.000\n",
       "3    10.000\n",
       "4    10.000\n",
       "Name: visibility, dtype: float64"
      ]
     },
     "execution_count": 8,
     "metadata": {},
     "output_type": "execute_result"
    }
   ],
   "source": [
    "df['visibility'].head()"
   ]
  },
  {
   "cell_type": "code",
   "execution_count": 9,
   "metadata": {
    "execution": {
     "iopub.execute_input": "2022-04-21T12:38:30.787010Z",
     "iopub.status.busy": "2022-04-21T12:38:30.786601Z",
     "iopub.status.idle": "2022-04-21T12:38:30.797890Z",
     "shell.execute_reply": "2022-04-21T12:38:30.797228Z",
     "shell.execute_reply.started": "2022-04-21T12:38:30.786962Z"
    }
   },
   "outputs": [
    {
     "data": {
      "text/plain": [
       "0    10.000\n",
       "1     4.786\n",
       "2    10.000\n",
       "3    10.000\n",
       "4    10.000\n",
       "Name: visibility.1, dtype: float64"
      ]
     },
     "execution_count": 9,
     "metadata": {},
     "output_type": "execute_result"
    }
   ],
   "source": [
    "df['visibility.1'].head()"
   ]
  },
  {
   "cell_type": "code",
   "execution_count": 10,
   "metadata": {
    "execution": {
     "iopub.execute_input": "2022-04-21T12:38:30.799739Z",
     "iopub.status.busy": "2022-04-21T12:38:30.799245Z",
     "iopub.status.idle": "2022-04-21T12:38:30.950128Z",
     "shell.execute_reply": "2022-04-21T12:38:30.949148Z",
     "shell.execute_reply.started": "2022-04-21T12:38:30.799707Z"
    }
   },
   "outputs": [],
   "source": [
    "df = df.drop(['visibility.1'],axis=1)"
   ]
  },
  {
   "cell_type": "markdown",
   "metadata": {},
   "source": [
    "# 2. EDA and Visualization"
   ]
  },
  {
   "cell_type": "markdown",
   "metadata": {},
   "source": [
    "## 1. Time Analysis "
   ]
  },
  {
   "cell_type": "markdown",
   "metadata": {},
   "source": [
    "### --Month Data--"
   ]
  },
  {
   "cell_type": "code",
   "execution_count": 11,
   "metadata": {
    "execution": {
     "iopub.execute_input": "2022-04-21T12:38:30.951599Z",
     "iopub.status.busy": "2022-04-21T12:38:30.951341Z",
     "iopub.status.idle": "2022-04-21T12:38:30.957595Z",
     "shell.execute_reply": "2022-04-21T12:38:30.956747Z",
     "shell.execute_reply.started": "2022-04-21T12:38:30.951568Z"
    }
   },
   "outputs": [],
   "source": [
    "def plot_bar(groupby_column):\n",
    "    df1 =df.groupby(groupby_column).size().reset_index(name=\"counts\")\n",
    "    fig1 = px.bar(data_frame=df1, x=groupby_column, y=\"counts\", color=groupby_column, barmode=\"group\")\n",
    "    print(df1)\n",
    "    fig1.show(renderer='png')"
   ]
  },
  {
   "cell_type": "code",
   "execution_count": null,
   "metadata": {},
   "outputs": [],
   "source": [
    "!pip install -U kaleido"
   ]
  },
  {
   "cell_type": "code",
   "execution_count": 12,
   "metadata": {
    "execution": {
     "iopub.execute_input": "2022-04-21T12:38:30.961696Z",
     "iopub.status.busy": "2022-04-21T12:38:30.961442Z",
     "iopub.status.idle": "2022-04-21T12:38:32.304802Z",
     "shell.execute_reply": "2022-04-21T12:38:32.303616Z",
     "shell.execute_reply.started": "2022-04-21T12:38:30.961667Z"
    }
   },
   "outputs": [
    {
     "name": "stdout",
     "output_type": "stream",
     "text": [
      "   month  counts\n",
      "0     11  263771\n",
      "1     12  374205\n"
     ]
    },
    {
     "ename": "ValueError",
     "evalue": "\nImage export using the \"kaleido\" engine requires the kaleido package,\nwhich can be installed using pip:\n    $ pip install -U kaleido\n",
     "output_type": "error",
     "traceback": [
      "\u001b[1;31m---------------------------------------------------------------------------\u001b[0m",
      "\u001b[1;31mValueError\u001b[0m                                Traceback (most recent call last)",
      "\u001b[1;32m<ipython-input-12-605f052c237e>\u001b[0m in \u001b[0;36m<module>\u001b[1;34m\u001b[0m\n\u001b[1;32m----> 1\u001b[1;33m \u001b[0mplot_bar\u001b[0m\u001b[1;33m(\u001b[0m\u001b[1;34m'month'\u001b[0m\u001b[1;33m)\u001b[0m\u001b[1;33m\u001b[0m\u001b[1;33m\u001b[0m\u001b[0m\n\u001b[0m",
      "\u001b[1;32m<ipython-input-11-350f9fffc92e>\u001b[0m in \u001b[0;36mplot_bar\u001b[1;34m(groupby_column)\u001b[0m\n\u001b[0;32m      3\u001b[0m     \u001b[0mfig1\u001b[0m \u001b[1;33m=\u001b[0m \u001b[0mpx\u001b[0m\u001b[1;33m.\u001b[0m\u001b[0mbar\u001b[0m\u001b[1;33m(\u001b[0m\u001b[0mdata_frame\u001b[0m\u001b[1;33m=\u001b[0m\u001b[0mdf1\u001b[0m\u001b[1;33m,\u001b[0m \u001b[0mx\u001b[0m\u001b[1;33m=\u001b[0m\u001b[0mgroupby_column\u001b[0m\u001b[1;33m,\u001b[0m \u001b[0my\u001b[0m\u001b[1;33m=\u001b[0m\u001b[1;34m\"counts\"\u001b[0m\u001b[1;33m,\u001b[0m \u001b[0mcolor\u001b[0m\u001b[1;33m=\u001b[0m\u001b[0mgroupby_column\u001b[0m\u001b[1;33m,\u001b[0m \u001b[0mbarmode\u001b[0m\u001b[1;33m=\u001b[0m\u001b[1;34m\"group\"\u001b[0m\u001b[1;33m)\u001b[0m\u001b[1;33m\u001b[0m\u001b[1;33m\u001b[0m\u001b[0m\n\u001b[0;32m      4\u001b[0m     \u001b[0mprint\u001b[0m\u001b[1;33m(\u001b[0m\u001b[0mdf1\u001b[0m\u001b[1;33m)\u001b[0m\u001b[1;33m\u001b[0m\u001b[1;33m\u001b[0m\u001b[0m\n\u001b[1;32m----> 5\u001b[1;33m     \u001b[0mfig1\u001b[0m\u001b[1;33m.\u001b[0m\u001b[0mshow\u001b[0m\u001b[1;33m(\u001b[0m\u001b[0mrenderer\u001b[0m\u001b[1;33m=\u001b[0m\u001b[1;34m'png'\u001b[0m\u001b[1;33m)\u001b[0m\u001b[1;33m\u001b[0m\u001b[1;33m\u001b[0m\u001b[0m\n\u001b[0m",
      "\u001b[1;32mC:\\ProgramData\\Anaconda3\\lib\\site-packages\\plotly\\basedatatypes.py\u001b[0m in \u001b[0;36mshow\u001b[1;34m(self, *args, **kwargs)\u001b[0m\n\u001b[0;32m   3396\u001b[0m         \u001b[1;32mimport\u001b[0m \u001b[0mplotly\u001b[0m\u001b[1;33m.\u001b[0m\u001b[0mio\u001b[0m \u001b[1;32mas\u001b[0m \u001b[0mpio\u001b[0m\u001b[1;33m\u001b[0m\u001b[1;33m\u001b[0m\u001b[0m\n\u001b[0;32m   3397\u001b[0m \u001b[1;33m\u001b[0m\u001b[0m\n\u001b[1;32m-> 3398\u001b[1;33m         \u001b[1;32mreturn\u001b[0m \u001b[0mpio\u001b[0m\u001b[1;33m.\u001b[0m\u001b[0mshow\u001b[0m\u001b[1;33m(\u001b[0m\u001b[0mself\u001b[0m\u001b[1;33m,\u001b[0m \u001b[1;33m*\u001b[0m\u001b[0margs\u001b[0m\u001b[1;33m,\u001b[0m \u001b[1;33m**\u001b[0m\u001b[0mkwargs\u001b[0m\u001b[1;33m)\u001b[0m\u001b[1;33m\u001b[0m\u001b[1;33m\u001b[0m\u001b[0m\n\u001b[0m\u001b[0;32m   3399\u001b[0m \u001b[1;33m\u001b[0m\u001b[0m\n\u001b[0;32m   3400\u001b[0m     \u001b[1;32mdef\u001b[0m \u001b[0mto_json\u001b[0m\u001b[1;33m(\u001b[0m\u001b[0mself\u001b[0m\u001b[1;33m,\u001b[0m \u001b[1;33m*\u001b[0m\u001b[0margs\u001b[0m\u001b[1;33m,\u001b[0m \u001b[1;33m**\u001b[0m\u001b[0mkwargs\u001b[0m\u001b[1;33m)\u001b[0m\u001b[1;33m:\u001b[0m\u001b[1;33m\u001b[0m\u001b[1;33m\u001b[0m\u001b[0m\n",
      "\u001b[1;32mC:\\ProgramData\\Anaconda3\\lib\\site-packages\\plotly\\io\\_renderers.py\u001b[0m in \u001b[0;36mshow\u001b[1;34m(fig, renderer, validate, **kwargs)\u001b[0m\n\u001b[0;32m    387\u001b[0m \u001b[1;33m\u001b[0m\u001b[0m\n\u001b[0;32m    388\u001b[0m     \u001b[1;31m# Mimetype renderers\u001b[0m\u001b[1;33m\u001b[0m\u001b[1;33m\u001b[0m\u001b[1;33m\u001b[0m\u001b[0m\n\u001b[1;32m--> 389\u001b[1;33m     \u001b[0mbundle\u001b[0m \u001b[1;33m=\u001b[0m \u001b[0mrenderers\u001b[0m\u001b[1;33m.\u001b[0m\u001b[0m_build_mime_bundle\u001b[0m\u001b[1;33m(\u001b[0m\u001b[0mfig_dict\u001b[0m\u001b[1;33m,\u001b[0m \u001b[0mrenderers_string\u001b[0m\u001b[1;33m=\u001b[0m\u001b[0mrenderer\u001b[0m\u001b[1;33m,\u001b[0m \u001b[1;33m**\u001b[0m\u001b[0mkwargs\u001b[0m\u001b[1;33m)\u001b[0m\u001b[1;33m\u001b[0m\u001b[1;33m\u001b[0m\u001b[0m\n\u001b[0m\u001b[0;32m    390\u001b[0m     \u001b[1;32mif\u001b[0m \u001b[0mbundle\u001b[0m\u001b[1;33m:\u001b[0m\u001b[1;33m\u001b[0m\u001b[1;33m\u001b[0m\u001b[0m\n\u001b[0;32m    391\u001b[0m         \u001b[1;32mif\u001b[0m \u001b[1;32mnot\u001b[0m \u001b[0mipython_display\u001b[0m\u001b[1;33m:\u001b[0m\u001b[1;33m\u001b[0m\u001b[1;33m\u001b[0m\u001b[0m\n",
      "\u001b[1;32mC:\\ProgramData\\Anaconda3\\lib\\site-packages\\plotly\\io\\_renderers.py\u001b[0m in \u001b[0;36m_build_mime_bundle\u001b[1;34m(self, fig_dict, renderers_string, **kwargs)\u001b[0m\n\u001b[0;32m    295\u001b[0m                         \u001b[0msetattr\u001b[0m\u001b[1;33m(\u001b[0m\u001b[0mrenderer\u001b[0m\u001b[1;33m,\u001b[0m \u001b[0mk\u001b[0m\u001b[1;33m,\u001b[0m \u001b[0mv\u001b[0m\u001b[1;33m)\u001b[0m\u001b[1;33m\u001b[0m\u001b[1;33m\u001b[0m\u001b[0m\n\u001b[0;32m    296\u001b[0m \u001b[1;33m\u001b[0m\u001b[0m\n\u001b[1;32m--> 297\u001b[1;33m                 \u001b[0mbundle\u001b[0m\u001b[1;33m.\u001b[0m\u001b[0mupdate\u001b[0m\u001b[1;33m(\u001b[0m\u001b[0mrenderer\u001b[0m\u001b[1;33m.\u001b[0m\u001b[0mto_mimebundle\u001b[0m\u001b[1;33m(\u001b[0m\u001b[0mfig_dict\u001b[0m\u001b[1;33m)\u001b[0m\u001b[1;33m)\u001b[0m\u001b[1;33m\u001b[0m\u001b[1;33m\u001b[0m\u001b[0m\n\u001b[0m\u001b[0;32m    298\u001b[0m \u001b[1;33m\u001b[0m\u001b[0m\n\u001b[0;32m    299\u001b[0m         \u001b[1;32mreturn\u001b[0m \u001b[0mbundle\u001b[0m\u001b[1;33m\u001b[0m\u001b[1;33m\u001b[0m\u001b[0m\n",
      "\u001b[1;32mC:\\ProgramData\\Anaconda3\\lib\\site-packages\\plotly\\io\\_base_renderers.py\u001b[0m in \u001b[0;36mto_mimebundle\u001b[1;34m(self, fig_dict)\u001b[0m\n\u001b[0;32m    126\u001b[0m \u001b[1;33m\u001b[0m\u001b[0m\n\u001b[0;32m    127\u001b[0m     \u001b[1;32mdef\u001b[0m \u001b[0mto_mimebundle\u001b[0m\u001b[1;33m(\u001b[0m\u001b[0mself\u001b[0m\u001b[1;33m,\u001b[0m \u001b[0mfig_dict\u001b[0m\u001b[1;33m)\u001b[0m\u001b[1;33m:\u001b[0m\u001b[1;33m\u001b[0m\u001b[1;33m\u001b[0m\u001b[0m\n\u001b[1;32m--> 128\u001b[1;33m         image_bytes = to_image(\n\u001b[0m\u001b[0;32m    129\u001b[0m             \u001b[0mfig_dict\u001b[0m\u001b[1;33m,\u001b[0m\u001b[1;33m\u001b[0m\u001b[1;33m\u001b[0m\u001b[0m\n\u001b[0;32m    130\u001b[0m             \u001b[0mformat\u001b[0m\u001b[1;33m=\u001b[0m\u001b[0mself\u001b[0m\u001b[1;33m.\u001b[0m\u001b[0mformat\u001b[0m\u001b[1;33m,\u001b[0m\u001b[1;33m\u001b[0m\u001b[1;33m\u001b[0m\u001b[0m\n",
      "\u001b[1;32mC:\\ProgramData\\Anaconda3\\lib\\site-packages\\plotly\\io\\_kaleido.py\u001b[0m in \u001b[0;36mto_image\u001b[1;34m(fig, format, width, height, scale, validate, engine)\u001b[0m\n\u001b[0;32m    132\u001b[0m     \u001b[1;31m# Raise informative error message if Kaleido is not installed\u001b[0m\u001b[1;33m\u001b[0m\u001b[1;33m\u001b[0m\u001b[1;33m\u001b[0m\u001b[0m\n\u001b[0;32m    133\u001b[0m     \u001b[1;32mif\u001b[0m \u001b[0mscope\u001b[0m \u001b[1;32mis\u001b[0m \u001b[1;32mNone\u001b[0m\u001b[1;33m:\u001b[0m\u001b[1;33m\u001b[0m\u001b[1;33m\u001b[0m\u001b[0m\n\u001b[1;32m--> 134\u001b[1;33m         raise ValueError(\n\u001b[0m\u001b[0;32m    135\u001b[0m             \"\"\"\n\u001b[0;32m    136\u001b[0m \u001b[0mImage\u001b[0m \u001b[0mexport\u001b[0m \u001b[0musing\u001b[0m \u001b[0mthe\u001b[0m \u001b[1;34m\"kaleido\"\u001b[0m \u001b[0mengine\u001b[0m \u001b[0mrequires\u001b[0m \u001b[0mthe\u001b[0m \u001b[0mkaleido\u001b[0m \u001b[0mpackage\u001b[0m\u001b[1;33m,\u001b[0m\u001b[1;33m\u001b[0m\u001b[1;33m\u001b[0m\u001b[0m\n",
      "\u001b[1;31mValueError\u001b[0m: \nImage export using the \"kaleido\" engine requires the kaleido package,\nwhich can be installed using pip:\n    $ pip install -U kaleido\n"
     ]
    }
   ],
   "source": [
    "plot_bar('month')"
   ]
  },
  {
   "cell_type": "markdown",
   "metadata": {},
   "source": [
    " It appears that we only have november and december in our month data. It means the data is only recorded or taken in november and december with december data dominating."
   ]
  },
  {
   "cell_type": "markdown",
   "metadata": {},
   "source": [
    "### --Day Data--"
   ]
  },
  {
   "cell_type": "code",
   "execution_count": null,
   "metadata": {
    "execution": {
     "iopub.execute_input": "2022-04-21T12:38:32.306797Z",
     "iopub.status.busy": "2022-04-21T12:38:32.306528Z",
     "iopub.status.idle": "2022-04-21T12:38:32.510985Z",
     "shell.execute_reply": "2022-04-21T12:38:32.510040Z",
     "shell.execute_reply.started": "2022-04-21T12:38:32.306763Z"
    }
   },
   "outputs": [],
   "source": [
    "plot_bar('day')"
   ]
  },
  {
   "cell_type": "markdown",
   "metadata": {},
   "source": [
    "It seems we have many gaps in our 'day' data. For example we don't have data from 18th day until 25th day in each month."
   ]
  },
  {
   "cell_type": "markdown",
   "metadata": {},
   "source": [
    "### --Hour Data--"
   ]
  },
  {
   "cell_type": "code",
   "execution_count": null,
   "metadata": {
    "execution": {
     "iopub.execute_input": "2022-04-21T12:38:32.513311Z",
     "iopub.status.busy": "2022-04-21T12:38:32.512513Z",
     "iopub.status.idle": "2022-04-21T12:38:32.698691Z",
     "shell.execute_reply": "2022-04-21T12:38:32.697672Z",
     "shell.execute_reply.started": "2022-04-21T12:38:32.513272Z"
    }
   },
   "outputs": [],
   "source": [
    "plot_bar('hour')"
   ]
  },
  {
   "cell_type": "markdown",
   "metadata": {},
   "source": [
    "It seems we have almost 24 hours recorded data"
   ]
  },
  {
   "cell_type": "markdown",
   "metadata": {},
   "source": [
    "## 2. Source and Destination Analysis"
   ]
  },
  {
   "cell_type": "code",
   "execution_count": null,
   "metadata": {
    "execution": {
     "iopub.execute_input": "2022-04-21T12:38:32.701277Z",
     "iopub.status.busy": "2022-04-21T12:38:32.700332Z",
     "iopub.status.idle": "2022-04-21T12:38:33.106282Z",
     "shell.execute_reply": "2022-04-21T12:38:33.105332Z",
     "shell.execute_reply.started": "2022-04-21T12:38:32.701218Z"
    }
   },
   "outputs": [],
   "source": [
    "plot_bar('source')"
   ]
  },
  {
   "cell_type": "code",
   "execution_count": null,
   "metadata": {
    "execution": {
     "iopub.execute_input": "2022-04-21T12:38:33.108046Z",
     "iopub.status.busy": "2022-04-21T12:38:33.107729Z",
     "iopub.status.idle": "2022-04-21T12:38:33.446565Z",
     "shell.execute_reply": "2022-04-21T12:38:33.445755Z",
     "shell.execute_reply.started": "2022-04-21T12:38:33.108003Z"
    }
   },
   "outputs": [],
   "source": [
    "plot_bar('destination')"
   ]
  },
  {
   "cell_type": "markdown",
   "metadata": {},
   "source": [
    "Same with source feature, there are about 50k data in each destination feature (Back Bay, Beacon Hill, Boston University, etc)"
   ]
  },
  {
   "cell_type": "code",
   "execution_count": null,
   "metadata": {
    "execution": {
     "iopub.execute_input": "2022-04-21T12:38:33.448530Z",
     "iopub.status.busy": "2022-04-21T12:38:33.448252Z",
     "iopub.status.idle": "2022-04-21T12:38:33.619683Z",
     "shell.execute_reply": "2022-04-21T12:38:33.618840Z",
     "shell.execute_reply.started": "2022-04-21T12:38:33.448489Z"
    }
   },
   "outputs": [],
   "source": [
    "df.groupby(by=[\"destination\",\"source\"]).agg({'latitude':'mean','longitude':'mean'})"
   ]
  },
  {
   "cell_type": "markdown",
   "metadata": {},
   "source": [
    "Here i make a geospatial map to visualize our data which the departure point of the trips is haymarket square. I plot them using clusters instead of marker. The map rendered by folium is interactive, we can slide, drag, and zoom in/out."
   ]
  },
  {
   "cell_type": "code",
   "execution_count": null,
   "metadata": {
    "execution": {
     "iopub.execute_input": "2022-04-21T12:38:33.621382Z",
     "iopub.status.busy": "2022-04-21T12:38:33.620992Z",
     "iopub.status.idle": "2022-04-21T12:38:35.187890Z",
     "shell.execute_reply": "2022-04-21T12:38:35.183838Z",
     "shell.execute_reply.started": "2022-04-21T12:38:33.621337Z"
    }
   },
   "outputs": [],
   "source": [
    "import geopandas as gpd\n",
    "import folium\n",
    "from folium.plugins import FastMarkerCluster\n",
    "df1 = df[df['source']=='Haymarket Square']\n",
    "my_map = folium.Map(location=[df1[\"latitude\"].mean(), df1[\"longitude\"].mean()],zoom_start = 10)\n",
    "my_map.add_child(FastMarkerCluster(df1[['latitude', 'longitude']].values.tolist(),color='green'))\n",
    "my_map"
   ]
  },
  {
   "cell_type": "markdown",
   "metadata": {},
   "source": [
    " We can see that trips which their sources are Haymarket Square have two groups or clusters of destination that contain many places (we can see them if we zoom the map). Many of them are in boston area as we can see that there are 46256 data in that cluster."
   ]
  },
  {
   "cell_type": "markdown",
   "metadata": {},
   "source": [
    "## 3. Cab Type Analysis"
   ]
  },
  {
   "cell_type": "code",
   "execution_count": null,
   "metadata": {
    "execution": {
     "iopub.execute_input": "2022-04-21T12:38:35.190506Z",
     "iopub.status.busy": "2022-04-21T12:38:35.189474Z",
     "iopub.status.idle": "2022-04-21T12:38:35.386110Z",
     "shell.execute_reply": "2022-04-21T12:38:35.384986Z",
     "shell.execute_reply.started": "2022-04-21T12:38:35.190458Z"
    }
   },
   "outputs": [],
   "source": [
    "plot_bar('cab_type')"
   ]
  },
  {
   "cell_type": "markdown",
   "metadata": {},
   "source": [
    "So for our whole data, we have uber data more than lyft data. The difference is not too big, each cab type has about 300K data."
   ]
  },
  {
   "cell_type": "code",
   "execution_count": null,
   "metadata": {
    "execution": {
     "iopub.execute_input": "2022-04-21T12:38:35.388072Z",
     "iopub.status.busy": "2022-04-21T12:38:35.387823Z",
     "iopub.status.idle": "2022-04-21T12:38:35.628683Z",
     "shell.execute_reply": "2022-04-21T12:38:35.627674Z",
     "shell.execute_reply.started": "2022-04-21T12:38:35.388043Z"
    }
   },
   "outputs": [],
   "source": [
    "df2 =df.groupby(by=[\"day\",\"cab_type\"]).size().reset_index(name=\"counts\")\n",
    "fig2 = px.bar(data_frame=df2, x=\"day\", y=\"counts\", color=\"cab_type\", barmode=\"group\")\n",
    "fig2.show(renderer='png')"
   ]
  },
  {
   "cell_type": "code",
   "execution_count": null,
   "metadata": {
    "execution": {
     "iopub.execute_input": "2022-04-21T12:38:35.630854Z",
     "iopub.status.busy": "2022-04-21T12:38:35.630527Z",
     "iopub.status.idle": "2022-04-21T12:38:35.864298Z",
     "shell.execute_reply": "2022-04-21T12:38:35.863345Z",
     "shell.execute_reply.started": "2022-04-21T12:38:35.630809Z"
    }
   },
   "outputs": [],
   "source": [
    "df3 =df.groupby([\"hour\",\"cab_type\"]).size().reset_index(name=\"counts\")\n",
    "fig3 = px.bar(data_frame=df3, x=\"hour\", y=\"counts\", color=\"cab_type\", barmode=\"group\")\n",
    "fig3.show(renderer='png')"
   ]
  },
  {
   "cell_type": "markdown",
   "metadata": {},
   "source": [
    "So in every day and every hour recorded, uber seems dominating booking order in our data"
   ]
  },
  {
   "cell_type": "markdown",
   "metadata": {},
   "source": [
    "## 4. Price Analysis"
   ]
  },
  {
   "cell_type": "markdown",
   "metadata": {},
   "source": [
    "We can see average or mean of our price data in every route (source-destination) through table below"
   ]
  },
  {
   "cell_type": "code",
   "execution_count": null,
   "metadata": {
    "execution": {
     "iopub.execute_input": "2022-04-21T12:38:35.866893Z",
     "iopub.status.busy": "2022-04-21T12:38:35.866152Z",
     "iopub.status.idle": "2022-04-21T12:38:36.022150Z",
     "shell.execute_reply": "2022-04-21T12:38:36.021291Z",
     "shell.execute_reply.started": "2022-04-21T12:38:35.866841Z"
    }
   },
   "outputs": [],
   "source": [
    "pd.set_option('display.max_rows', 72)\n",
    "df.groupby(by=[\"source\",\"destination\"]).price.agg([\"mean\"])"
   ]
  },
  {
   "cell_type": "code",
   "execution_count": null,
   "metadata": {
    "execution": {
     "iopub.execute_input": "2022-04-21T12:38:36.024462Z",
     "iopub.status.busy": "2022-04-21T12:38:36.023792Z",
     "iopub.status.idle": "2022-04-21T12:38:36.071125Z",
     "shell.execute_reply": "2022-04-21T12:38:36.070103Z",
     "shell.execute_reply.started": "2022-04-21T12:38:36.024414Z"
    }
   },
   "outputs": [],
   "source": [
    "print('Maximum price in our data :',df.price.max())\n",
    "df[df['price']==df.price.max()]"
   ]
  },
  {
   "cell_type": "code",
   "execution_count": null,
   "metadata": {
    "execution": {
     "iopub.execute_input": "2022-04-21T12:38:36.072778Z",
     "iopub.status.busy": "2022-04-21T12:38:36.072416Z",
     "iopub.status.idle": "2022-04-21T12:38:36.086758Z",
     "shell.execute_reply": "2022-04-21T12:38:36.085330Z",
     "shell.execute_reply.started": "2022-04-21T12:38:36.072745Z"
    }
   },
   "outputs": [],
   "source": [
    "df[df['price']==df.price.max()][['latitude','longitude']]"
   ]
  },
  {
   "cell_type": "markdown",
   "metadata": {},
   "source": [
    "### I can plot the map of both places using folium to see how far they are from each other (I only inserted the snapshot of the plot)"
   ]
  },
  {
   "cell_type": "code",
   "execution_count": null,
   "metadata": {
    "execution": {
     "iopub.execute_input": "2022-04-21T12:38:36.089055Z",
     "iopub.status.busy": "2022-04-21T12:38:36.088111Z",
     "iopub.status.idle": "2022-04-21T12:38:36.107631Z",
     "shell.execute_reply": "2022-04-21T12:38:36.106555Z",
     "shell.execute_reply.started": "2022-04-21T12:38:36.089000Z"
    }
   },
   "outputs": [],
   "source": [
    "#Using this code:\n",
    "map1 = folium.Map(location=(42.3503,-71.081),zoom_start = 10)\n",
    "folium.Marker(location=(42.3503,-71.081)).add_to(map1) # Fenway\n",
    "folium.Marker(location=(42.3378,-71.066)).add_to(map1) # Financial District\n",
    "display(map1)"
   ]
  },
  {
   "cell_type": "markdown",
   "metadata": {},
   "source": [
    "### Apparently the 'Financial District - Fenway' route (by lyft) costs 97.5 dollars, which is our maximum price data. But from the map above, the distance between both places is not too far (they are both in boston), so it could be outlier since we don't have information about trip duration or transit. We should check another data with the same route"
   ]
  },
  {
   "cell_type": "code",
   "execution_count": null,
   "metadata": {
    "execution": {
     "iopub.execute_input": "2022-04-21T12:38:36.110951Z",
     "iopub.status.busy": "2022-04-21T12:38:36.110113Z",
     "iopub.status.idle": "2022-04-21T12:38:36.254597Z",
     "shell.execute_reply": "2022-04-21T12:38:36.253628Z",
     "shell.execute_reply.started": "2022-04-21T12:38:36.110904Z"
    }
   },
   "outputs": [],
   "source": [
    "df_group = df.groupby(by=[\"source\",\"destination\"]).price.agg([\"mean\"]).reset_index()\n",
    "df_group[(df_group['source']=='Financial District')& (df_group['destination']=='Fenway')]"
   ]
  },
  {
   "cell_type": "markdown",
   "metadata": {},
   "source": [
    "### The mean of the price data of that route is 23.4 dollars, which is far from our maximum price data (97.5 dollars). Then it is possible an outlier. We can drop it."
   ]
  },
  {
   "cell_type": "code",
   "execution_count": null,
   "metadata": {
    "execution": {
     "iopub.execute_input": "2022-04-21T12:38:36.256511Z",
     "iopub.status.busy": "2022-04-21T12:38:36.256125Z",
     "iopub.status.idle": "2022-04-21T12:38:36.485551Z",
     "shell.execute_reply": "2022-04-21T12:38:36.484560Z",
     "shell.execute_reply.started": "2022-04-21T12:38:36.256457Z"
    }
   },
   "outputs": [],
   "source": [
    "df = df.loc[df['price']!=df.price.max()]"
   ]
  },
  {
   "cell_type": "code",
   "execution_count": null,
   "metadata": {
    "execution": {
     "iopub.execute_input": "2022-04-21T12:38:36.487063Z",
     "iopub.status.busy": "2022-04-21T12:38:36.486803Z",
     "iopub.status.idle": "2022-04-21T12:38:36.544812Z",
     "shell.execute_reply": "2022-04-21T12:38:36.543936Z",
     "shell.execute_reply.started": "2022-04-21T12:38:36.487032Z"
    }
   },
   "outputs": [],
   "source": [
    "df.head()"
   ]
  },
  {
   "cell_type": "code",
   "execution_count": null,
   "metadata": {},
   "outputs": [],
   "source": []
  },
  {
   "cell_type": "markdown",
   "metadata": {},
   "source": [
    "# 3. Data Preprocessing / Feature Engineering"
   ]
  },
  {
   "cell_type": "markdown",
   "metadata": {},
   "source": [
    "## 1. Removing Unnecessary Features"
   ]
  },
  {
   "cell_type": "code",
   "execution_count": null,
   "metadata": {
    "execution": {
     "iopub.execute_input": "2022-04-21T12:38:36.546653Z",
     "iopub.status.busy": "2022-04-21T12:38:36.546094Z",
     "iopub.status.idle": "2022-04-21T12:38:36.660039Z",
     "shell.execute_reply": "2022-04-21T12:38:36.659032Z",
     "shell.execute_reply.started": "2022-04-21T12:38:36.546612Z"
    }
   },
   "outputs": [],
   "source": [
    "# For further modelling i don't think we need date related features. But maybe we need them in the future analysis.\n",
    "# so i will make new dataframe\n",
    "\n",
    "new_df = df.drop(['id','timestamp','datetime','long_summary','apparentTemperatureHighTime','apparentTemperatureLowTime',\n",
    "                  'apparentTemperatureLowTime','windGustTime','sunriseTime','sunsetTime','uvIndexTime','temperatureMinTime',\n",
    "                 'temperatureMaxTime','apparentTemperatureMinTime','temperatureLowTime','apparentTemperatureMaxTime'],axis=1)"
   ]
  },
  {
   "cell_type": "code",
   "execution_count": null,
   "metadata": {
    "execution": {
     "iopub.execute_input": "2022-04-21T12:38:36.661634Z",
     "iopub.status.busy": "2022-04-21T12:38:36.661396Z",
     "iopub.status.idle": "2022-04-21T12:38:36.669283Z",
     "shell.execute_reply": "2022-04-21T12:38:36.668092Z",
     "shell.execute_reply.started": "2022-04-21T12:38:36.661606Z"
    }
   },
   "outputs": [],
   "source": [
    "new_df.shape"
   ]
  },
  {
   "cell_type": "markdown",
   "metadata": {},
   "source": [
    "### Our goal is to make linear regression model. First we check correlation between our features and target feature (price)"
   ]
  },
  {
   "cell_type": "markdown",
   "metadata": {},
   "source": [
    "### First, i want to check the correlation of our temperature related features with our target feature (Price)"
   ]
  },
  {
   "cell_type": "code",
   "execution_count": null,
   "metadata": {
    "execution": {
     "iopub.execute_input": "2022-04-21T12:38:36.671311Z",
     "iopub.status.busy": "2022-04-21T12:38:36.670922Z",
     "iopub.status.idle": "2022-04-21T12:38:36.681524Z",
     "shell.execute_reply": "2022-04-21T12:38:36.680434Z",
     "shell.execute_reply.started": "2022-04-21T12:38:36.671272Z"
    }
   },
   "outputs": [],
   "source": [
    "temp_cols= ['temperature','apparentTemperature','temperatureHigh','temperatureLow','apparentTemperatureHigh',\n",
    "                'apparentTemperatureLow','temperatureMin','temperatureHighTime','temperatureMax','apparentTemperatureMin','apparentTemperatureMax','price']"
   ]
  },
  {
   "cell_type": "code",
   "execution_count": null,
   "metadata": {
    "execution": {
     "iopub.execute_input": "2022-04-21T12:38:36.684737Z",
     "iopub.status.busy": "2022-04-21T12:38:36.683999Z",
     "iopub.status.idle": "2022-04-21T12:38:36.737471Z",
     "shell.execute_reply": "2022-04-21T12:38:36.736570Z",
     "shell.execute_reply.started": "2022-04-21T12:38:36.684666Z"
    }
   },
   "outputs": [],
   "source": [
    "df_temp = new_df[temp_cols]\n",
    "df_temp.head()"
   ]
  },
  {
   "cell_type": "code",
   "execution_count": null,
   "metadata": {
    "execution": {
     "iopub.execute_input": "2022-04-21T12:38:36.739444Z",
     "iopub.status.busy": "2022-04-21T12:38:36.738779Z",
     "iopub.status.idle": "2022-04-21T12:38:38.302418Z",
     "shell.execute_reply": "2022-04-21T12:38:38.298258Z",
     "shell.execute_reply.started": "2022-04-21T12:38:36.739399Z"
    }
   },
   "outputs": [],
   "source": [
    "plt.figure(figsize=(15,20))\n",
    "sns.heatmap(df_temp.corr(),annot=True)"
   ]
  },
  {
   "cell_type": "markdown",
   "metadata": {},
   "source": [
    "### We see that all temperature related features have weak correlation with our target feature which is price\n",
    "\n",
    "### Removing all of them will not make any impact to our regression model"
   ]
  },
  {
   "cell_type": "code",
   "execution_count": null,
   "metadata": {
    "execution": {
     "iopub.execute_input": "2022-04-21T12:38:38.304655Z",
     "iopub.status.busy": "2022-04-21T12:38:38.304286Z",
     "iopub.status.idle": "2022-04-21T12:38:38.415977Z",
     "shell.execute_reply": "2022-04-21T12:38:38.415111Z",
     "shell.execute_reply.started": "2022-04-21T12:38:38.304609Z"
    }
   },
   "outputs": [],
   "source": [
    "new_df = new_df.drop(['temperature','apparentTemperature','temperatureHigh','temperatureLow','apparentTemperatureHigh',\n",
    "                'apparentTemperatureLow','temperatureMin','temperatureHighTime','temperatureMax','apparentTemperatureMin','apparentTemperatureMax'],axis=1)\n",
    "new_df.shape"
   ]
  },
  {
   "cell_type": "markdown",
   "metadata": {},
   "source": [
    " "
   ]
  },
  {
   "cell_type": "markdown",
   "metadata": {},
   "source": [
    "### Second, i want to check the correlation of our cilmate related features with our target feature (Price)"
   ]
  },
  {
   "cell_type": "code",
   "execution_count": null,
   "metadata": {
    "execution": {
     "iopub.execute_input": "2022-04-21T12:38:38.418013Z",
     "iopub.status.busy": "2022-04-21T12:38:38.417539Z",
     "iopub.status.idle": "2022-04-21T12:38:38.483020Z",
     "shell.execute_reply": "2022-04-21T12:38:38.481945Z",
     "shell.execute_reply.started": "2022-04-21T12:38:38.417951Z"
    }
   },
   "outputs": [],
   "source": [
    "climate_column = ['precipIntensity', 'precipProbability', 'humidity', 'windSpeed',\n",
    "       'windGust', 'visibility', 'dewPoint', 'pressure', 'windBearing',\n",
    "       'cloudCover', 'uvIndex', 'ozone', 'moonPhase',\n",
    "       'precipIntensityMax','price']\n",
    "df_clim = new_df[climate_column]\n",
    "df_clim.head()"
   ]
  },
  {
   "cell_type": "code",
   "execution_count": null,
   "metadata": {
    "execution": {
     "iopub.execute_input": "2022-04-21T12:38:38.484593Z",
     "iopub.status.busy": "2022-04-21T12:38:38.484311Z",
     "iopub.status.idle": "2022-04-21T12:38:40.691202Z",
     "shell.execute_reply": "2022-04-21T12:38:40.690129Z",
     "shell.execute_reply.started": "2022-04-21T12:38:38.484564Z"
    }
   },
   "outputs": [],
   "source": [
    "plt.figure(figsize=(15,20))\n",
    "sns.heatmap(df_clim.corr(),annot=True)"
   ]
  },
  {
   "cell_type": "markdown",
   "metadata": {},
   "source": [
    "### Apparently all climate related features also have weak correlation with our target feature which is price\n",
    "\n",
    "### Once again, removing all of them will not make any impact to our regression model"
   ]
  },
  {
   "cell_type": "code",
   "execution_count": null,
   "metadata": {
    "execution": {
     "iopub.execute_input": "2022-04-21T12:38:40.693196Z",
     "iopub.status.busy": "2022-04-21T12:38:40.692911Z",
     "iopub.status.idle": "2022-04-21T12:38:40.760580Z",
     "shell.execute_reply": "2022-04-21T12:38:40.759292Z",
     "shell.execute_reply.started": "2022-04-21T12:38:40.693160Z"
    }
   },
   "outputs": [],
   "source": [
    "new_df = new_df.drop(['precipIntensity', 'precipProbability', 'humidity', 'windSpeed',\n",
    "       'windGust', 'visibility', 'dewPoint', 'pressure', 'windBearing',\n",
    "       'cloudCover', 'uvIndex', 'ozone', 'moonPhase',\n",
    "       'precipIntensityMax'],axis=1)\n",
    "new_df.shape"
   ]
  },
  {
   "cell_type": "markdown",
   "metadata": {},
   "source": [
    " "
   ]
  },
  {
   "cell_type": "markdown",
   "metadata": {},
   "source": [
    "### Third, i want to check our categorical value in our dataset features "
   ]
  },
  {
   "cell_type": "code",
   "execution_count": null,
   "metadata": {
    "execution": {
     "iopub.execute_input": "2022-04-21T12:38:40.762571Z",
     "iopub.status.busy": "2022-04-21T12:38:40.762220Z",
     "iopub.status.idle": "2022-04-21T12:38:41.311283Z",
     "shell.execute_reply": "2022-04-21T12:38:41.310254Z",
     "shell.execute_reply.started": "2022-04-21T12:38:40.762527Z"
    }
   },
   "outputs": [],
   "source": [
    "category_col = new_df.select_dtypes(include=['object','category']).columns.tolist()\n",
    "for column in new_df[category_col]:\n",
    "    print(f'{column} : {new_df[column].unique()}')\n",
    "    print()"
   ]
  },
  {
   "cell_type": "markdown",
   "metadata": {},
   "source": [
    "### We can see that 'timezone' feature has only 1 value and 'product_id' feature contains many unidentified values. So we can remove or drop them."
   ]
  },
  {
   "cell_type": "code",
   "execution_count": null,
   "metadata": {
    "execution": {
     "iopub.execute_input": "2022-04-21T12:38:41.316615Z",
     "iopub.status.busy": "2022-04-21T12:38:41.316359Z",
     "iopub.status.idle": "2022-04-21T12:38:41.385866Z",
     "shell.execute_reply": "2022-04-21T12:38:41.385137Z",
     "shell.execute_reply.started": "2022-04-21T12:38:41.316586Z"
    }
   },
   "outputs": [],
   "source": [
    "new_df = new_df.drop(['timezone','product_id'],axis=1)"
   ]
  },
  {
   "cell_type": "code",
   "execution_count": null,
   "metadata": {
    "execution": {
     "iopub.execute_input": "2022-04-21T12:38:41.387552Z",
     "iopub.status.busy": "2022-04-21T12:38:41.387185Z",
     "iopub.status.idle": "2022-04-21T12:38:41.393541Z",
     "shell.execute_reply": "2022-04-21T12:38:41.392703Z",
     "shell.execute_reply.started": "2022-04-21T12:38:41.387507Z"
    }
   },
   "outputs": [],
   "source": [
    "new_df.shape"
   ]
  },
  {
   "cell_type": "markdown",
   "metadata": {},
   "source": [
    " "
   ]
  },
  {
   "cell_type": "markdown",
   "metadata": {},
   "source": [
    "### Fourth, i want to check the correlation of our categorical features with our target feature (price)"
   ]
  },
  {
   "cell_type": "code",
   "execution_count": null,
   "metadata": {
    "execution": {
     "iopub.execute_input": "2022-04-21T12:38:41.395661Z",
     "iopub.status.busy": "2022-04-21T12:38:41.395007Z",
     "iopub.status.idle": "2022-04-21T12:38:41.442050Z",
     "shell.execute_reply": "2022-04-21T12:38:41.441238Z",
     "shell.execute_reply.started": "2022-04-21T12:38:41.395626Z"
    }
   },
   "outputs": [],
   "source": [
    "new_cat = ['source',\n",
    " 'destination',\n",
    " 'cab_type',\n",
    " 'name',\n",
    " 'short_summary',\n",
    " 'icon','price']\n",
    "\n",
    "df_cat = new_df[new_cat]\n",
    "df_cat.head()"
   ]
  },
  {
   "cell_type": "code",
   "execution_count": null,
   "metadata": {
    "execution": {
     "iopub.execute_input": "2022-04-21T12:38:41.443558Z",
     "iopub.status.busy": "2022-04-21T12:38:41.443079Z",
     "iopub.status.idle": "2022-04-21T12:38:43.011894Z",
     "shell.execute_reply": "2022-04-21T12:38:43.010964Z",
     "shell.execute_reply.started": "2022-04-21T12:38:41.443523Z"
    }
   },
   "outputs": [],
   "source": [
    "from sklearn import preprocessing\n",
    "le = preprocessing.LabelEncoder()\n",
    "\n",
    "df_cat_encode= df_cat.copy()\n",
    "for col in df_cat_encode.select_dtypes(include='O').columns:\n",
    "    df_cat_encode[col]=le.fit_transform(df_cat_encode[col])"
   ]
  },
  {
   "cell_type": "code",
   "execution_count": null,
   "metadata": {
    "execution": {
     "iopub.execute_input": "2022-04-21T12:38:43.014622Z",
     "iopub.status.busy": "2022-04-21T12:38:43.013687Z",
     "iopub.status.idle": "2022-04-21T12:38:43.035983Z",
     "shell.execute_reply": "2022-04-21T12:38:43.034731Z",
     "shell.execute_reply.started": "2022-04-21T12:38:43.014569Z"
    }
   },
   "outputs": [],
   "source": [
    "df_cat_encode"
   ]
  },
  {
   "cell_type": "code",
   "execution_count": null,
   "metadata": {
    "execution": {
     "iopub.execute_input": "2022-04-21T12:38:43.038397Z",
     "iopub.status.busy": "2022-04-21T12:38:43.037498Z",
     "iopub.status.idle": "2022-04-21T12:38:43.837345Z",
     "shell.execute_reply": "2022-04-21T12:38:43.836222Z",
     "shell.execute_reply.started": "2022-04-21T12:38:43.038333Z"
    }
   },
   "outputs": [],
   "source": [
    "plt.figure(figsize=(15,20))\n",
    "sns.heatmap(df_cat_encode.corr(),annot=True)"
   ]
  },
  {
   "cell_type": "markdown",
   "metadata": {},
   "source": [
    "### We can see only name feature that has a relatively strong correlation. Source,destination, and cab_type features have relatively weak correlation, but i will pick cab_type feature because it has stronger correlation than other two features. I will drop or remove the rest of the columns"
   ]
  },
  {
   "cell_type": "code",
   "execution_count": null,
   "metadata": {
    "execution": {
     "iopub.execute_input": "2022-04-21T12:38:43.839244Z",
     "iopub.status.busy": "2022-04-21T12:38:43.838872Z",
     "iopub.status.idle": "2022-04-21T12:38:43.904506Z",
     "shell.execute_reply": "2022-04-21T12:38:43.903612Z",
     "shell.execute_reply.started": "2022-04-21T12:38:43.839211Z"
    }
   },
   "outputs": [],
   "source": [
    "new_df = new_df.drop(['source','destination','short_summary','icon'],axis=1)\n",
    "new_df.head()"
   ]
  },
  {
   "cell_type": "markdown",
   "metadata": {},
   "source": [
    "### Also i will remove hour, day, month, latitude, longitude, because we won't need them for now"
   ]
  },
  {
   "cell_type": "code",
   "execution_count": null,
   "metadata": {
    "execution": {
     "iopub.execute_input": "2022-04-21T12:38:43.906217Z",
     "iopub.status.busy": "2022-04-21T12:38:43.905972Z",
     "iopub.status.idle": "2022-04-21T12:38:43.935874Z",
     "shell.execute_reply": "2022-04-21T12:38:43.935251Z",
     "shell.execute_reply.started": "2022-04-21T12:38:43.906187Z"
    }
   },
   "outputs": [],
   "source": [
    "new_df = new_df.drop(['hour','day','month','latitude','longitude'],axis=1)\n",
    "new_df.head()"
   ]
  },
  {
   "cell_type": "code",
   "execution_count": null,
   "metadata": {
    "execution": {
     "iopub.execute_input": "2022-04-21T12:38:43.938163Z",
     "iopub.status.busy": "2022-04-21T12:38:43.937080Z",
     "iopub.status.idle": "2022-04-21T12:38:43.943923Z",
     "shell.execute_reply": "2022-04-21T12:38:43.943391Z",
     "shell.execute_reply.started": "2022-04-21T12:38:43.938116Z"
    }
   },
   "outputs": [],
   "source": [
    "new_df.columns"
   ]
  },
  {
   "cell_type": "markdown",
   "metadata": {},
   "source": [
    "## 2. Removing Outliers"
   ]
  },
  {
   "cell_type": "markdown",
   "metadata": {},
   "source": [
    "### We've already done this before but only to one instance which has maximum price value. We want to check another possible outlier."
   ]
  },
  {
   "cell_type": "markdown",
   "metadata": {},
   "source": [
    "### We're using IQR method for checking top and bottom outliers"
   ]
  },
  {
   "cell_type": "code",
   "execution_count": null,
   "metadata": {
    "execution": {
     "iopub.execute_input": "2022-04-21T12:38:43.945945Z",
     "iopub.status.busy": "2022-04-21T12:38:43.944844Z",
     "iopub.status.idle": "2022-04-21T12:38:43.989091Z",
     "shell.execute_reply": "2022-04-21T12:38:43.987861Z",
     "shell.execute_reply.started": "2022-04-21T12:38:43.945875Z"
    }
   },
   "outputs": [],
   "source": [
    "Qp12 = new_df['price'].quantile(0.25)\n",
    "Qp32 = new_df['price'].quantile(0.75)\n",
    "IQRp = Qp32-Qp12"
   ]
  },
  {
   "cell_type": "code",
   "execution_count": null,
   "metadata": {
    "execution": {
     "iopub.execute_input": "2022-04-21T12:38:43.991739Z",
     "iopub.status.busy": "2022-04-21T12:38:43.991120Z",
     "iopub.status.idle": "2022-04-21T12:38:44.016407Z",
     "shell.execute_reply": "2022-04-21T12:38:44.015181Z",
     "shell.execute_reply.started": "2022-04-21T12:38:43.991693Z"
    }
   },
   "outputs": [],
   "source": [
    "new_df[new_df['price']>(Qp32+(1.5*IQRp))]"
   ]
  },
  {
   "cell_type": "code",
   "execution_count": null,
   "metadata": {
    "execution": {
     "iopub.execute_input": "2022-04-21T12:38:44.019322Z",
     "iopub.status.busy": "2022-04-21T12:38:44.017920Z",
     "iopub.status.idle": "2022-04-21T12:38:44.032797Z",
     "shell.execute_reply": "2022-04-21T12:38:44.031416Z",
     "shell.execute_reply.started": "2022-04-21T12:38:44.019266Z"
    }
   },
   "outputs": [],
   "source": [
    "new_df[new_df['price']<(Qp12-(1.5*IQRp))]"
   ]
  },
  {
   "cell_type": "markdown",
   "metadata": {},
   "source": [
    "### We can see that we have 5588 data outliers. We can remove or drop them."
   ]
  },
  {
   "cell_type": "code",
   "execution_count": null,
   "metadata": {
    "execution": {
     "iopub.execute_input": "2022-04-21T12:38:44.035468Z",
     "iopub.status.busy": "2022-04-21T12:38:44.035061Z",
     "iopub.status.idle": "2022-04-21T12:38:44.068798Z",
     "shell.execute_reply": "2022-04-21T12:38:44.068220Z",
     "shell.execute_reply.started": "2022-04-21T12:38:44.035419Z"
    }
   },
   "outputs": [],
   "source": [
    "print('Size before removing :',new_df.shape)\n",
    "new_df= new_df[~((new_df['price']>(Qp32+(1.5*IQRp))))]\n",
    "print('Size after removing :',new_df.shape)"
   ]
  },
  {
   "cell_type": "code",
   "execution_count": null,
   "metadata": {},
   "outputs": [],
   "source": []
  },
  {
   "cell_type": "markdown",
   "metadata": {},
   "source": [
    "# 4. Regression Model"
   ]
  },
  {
   "cell_type": "markdown",
   "metadata": {},
   "source": [
    "## 1. Encoding Data (One Hot Encoding)"
   ]
  },
  {
   "cell_type": "code",
   "execution_count": null,
   "metadata": {
    "execution": {
     "iopub.execute_input": "2022-04-21T12:38:44.069922Z",
     "iopub.status.busy": "2022-04-21T12:38:44.069720Z",
     "iopub.status.idle": "2022-04-21T12:38:44.079277Z",
     "shell.execute_reply": "2022-04-21T12:38:44.078188Z",
     "shell.execute_reply.started": "2022-04-21T12:38:44.069896Z"
    }
   },
   "outputs": [],
   "source": [
    "def one_hot_encoder(data,feature,keep_first=True):\n",
    "\n",
    "    one_hot_cols = pd.get_dummies(data[feature])\n",
    "    \n",
    "    for col in one_hot_cols.columns:\n",
    "        one_hot_cols.rename({col:f'{feature}_'+col},axis=1,inplace=True)\n",
    "    \n",
    "    new_data = pd.concat([data,one_hot_cols],axis=1)\n",
    "    new_data.drop(feature,axis=1,inplace=True)\n",
    "    \n",
    "    if keep_first == False:\n",
    "        new_data=new_data.iloc[:,1:]\n",
    "    \n",
    "    return new_data"
   ]
  },
  {
   "cell_type": "code",
   "execution_count": null,
   "metadata": {
    "execution": {
     "iopub.execute_input": "2022-04-21T12:38:44.081413Z",
     "iopub.status.busy": "2022-04-21T12:38:44.081063Z",
     "iopub.status.idle": "2022-04-21T12:38:44.368222Z",
     "shell.execute_reply": "2022-04-21T12:38:44.367458Z",
     "shell.execute_reply.started": "2022-04-21T12:38:44.081354Z"
    }
   },
   "outputs": [],
   "source": [
    "new_df_onehot=new_df.copy()\n",
    "for col in new_df_onehot.select_dtypes(include='O').columns:\n",
    "    new_df_onehot=one_hot_encoder(new_df_onehot,col)\n",
    "    \n",
    "new_df_onehot.head()"
   ]
  },
  {
   "cell_type": "markdown",
   "metadata": {},
   "source": [
    " "
   ]
  },
  {
   "cell_type": "markdown",
   "metadata": {},
   "source": [
    "## 2. Dataset Split"
   ]
  },
  {
   "cell_type": "code",
   "execution_count": null,
   "metadata": {
    "execution": {
     "iopub.execute_input": "2022-04-21T12:38:44.370153Z",
     "iopub.status.busy": "2022-04-21T12:38:44.369928Z",
     "iopub.status.idle": "2022-04-21T12:38:44.641845Z",
     "shell.execute_reply": "2022-04-21T12:38:44.640754Z",
     "shell.execute_reply.started": "2022-04-21T12:38:44.370126Z"
    }
   },
   "outputs": [],
   "source": [
    "from sklearn.model_selection import train_test_split\n",
    "X = new_df_onehot.drop(columns=['price'],axis=1).values\n",
    "y = new_df_onehot['price'].values\n",
    "\n",
    "X_train, X_test, y_train, y_test = train_test_split(X, y, test_size=0.3, random_state=0)"
   ]
  },
  {
   "cell_type": "markdown",
   "metadata": {},
   "source": [
    " "
   ]
  },
  {
   "cell_type": "markdown",
   "metadata": {},
   "source": [
    "## 3. Modeling"
   ]
  },
  {
   "cell_type": "markdown",
   "metadata": {},
   "source": [
    "## 3.1. Base Model"
   ]
  },
  {
   "cell_type": "code",
   "execution_count": null,
   "metadata": {
    "execution": {
     "iopub.execute_input": "2022-04-21T12:38:44.643909Z",
     "iopub.status.busy": "2022-04-21T12:38:44.643575Z",
     "iopub.status.idle": "2022-04-21T12:38:44.735765Z",
     "shell.execute_reply": "2022-04-21T12:38:44.735003Z",
     "shell.execute_reply.started": "2022-04-21T12:38:44.643864Z"
    }
   },
   "outputs": [],
   "source": [
    "from sklearn.linear_model import LinearRegression\n",
    "reg = LinearRegression()"
   ]
  },
  {
   "cell_type": "code",
   "execution_count": null,
   "metadata": {
    "execution": {
     "iopub.execute_input": "2022-04-21T12:38:44.737884Z",
     "iopub.status.busy": "2022-04-21T12:38:44.737325Z",
     "iopub.status.idle": "2022-04-21T12:38:45.158931Z",
     "shell.execute_reply": "2022-04-21T12:38:45.157732Z",
     "shell.execute_reply.started": "2022-04-21T12:38:44.737839Z"
    }
   },
   "outputs": [],
   "source": [
    "# Fit to data training\n",
    "model = reg.fit(X_train,y_train)\n",
    "y_pred=model.predict(X_test)"
   ]
  },
  {
   "cell_type": "code",
   "execution_count": null,
   "metadata": {
    "execution": {
     "iopub.execute_input": "2022-04-21T12:38:45.161735Z",
     "iopub.status.busy": "2022-04-21T12:38:45.161171Z",
     "iopub.status.idle": "2022-04-21T12:38:45.182306Z",
     "shell.execute_reply": "2022-04-21T12:38:45.181295Z",
     "shell.execute_reply.started": "2022-04-21T12:38:45.161685Z"
    }
   },
   "outputs": [],
   "source": [
    "from sklearn.metrics import r2_score\n",
    "r2_score(y_test, y_pred)"
   ]
  },
  {
   "cell_type": "code",
   "execution_count": null,
   "metadata": {
    "execution": {
     "iopub.execute_input": "2022-04-21T12:38:45.184715Z",
     "iopub.status.busy": "2022-04-21T12:38:45.184115Z",
     "iopub.status.idle": "2022-04-21T12:38:45.198564Z",
     "shell.execute_reply": "2022-04-21T12:38:45.197435Z",
     "shell.execute_reply.started": "2022-04-21T12:38:45.184665Z"
    }
   },
   "outputs": [],
   "source": [
    "from sklearn.metrics import mean_squared_error\n",
    "mse = mean_squared_error(y_test,y_pred)\n",
    "rmse = np.sqrt(mse)\n",
    "print(mse)\n",
    "print(rmse)"
   ]
  },
  {
   "cell_type": "markdown",
   "metadata": {},
   "source": [
    "### Then for the long journey we have done, we got our regression model with accuracy or score 93.37% and RMSE value 2.26. It's not the best score though, we still can improve it with other regression models which could give better results."
   ]
  },
  {
   "cell_type": "markdown",
   "metadata": {},
   "source": [
    "## 3.2. Finding Best Models with best configuration with GridSearch CV"
   ]
  },
  {
   "cell_type": "code",
   "execution_count": null,
   "metadata": {
    "execution": {
     "iopub.execute_input": "2022-04-21T12:38:45.201893Z",
     "iopub.status.busy": "2022-04-21T12:38:45.201034Z",
     "iopub.status.idle": "2022-04-21T12:39:33.387918Z",
     "shell.execute_reply": "2022-04-21T12:39:33.386749Z",
     "shell.execute_reply.started": "2022-04-21T12:38:45.201837Z"
    }
   },
   "outputs": [],
   "source": [
    "from sklearn.linear_model import Lasso\n",
    "from sklearn.tree import DecisionTreeRegressor\n",
    "from sklearn.model_selection import GridSearchCV,ShuffleSplit\n",
    "\n",
    "def find_best_model_using_gridsearchcv(X,y):\n",
    "    algos = {\n",
    "        'linear_regression' : {\n",
    "            'model': LinearRegression(),\n",
    "            'params': {\n",
    "                'normalize': [True, False]\n",
    "            }\n",
    "        },\n",
    "        'lasso': {\n",
    "            'model': Lasso(),\n",
    "            'params': {\n",
    "                'alpha': [1,2],\n",
    "                'selection': ['random', 'cyclic']\n",
    "            }\n",
    "        },\n",
    "        'decision_tree': {\n",
    "            'model': DecisionTreeRegressor(),\n",
    "            'params': {\n",
    "                'criterion' : ['mse','friedman_mse'],\n",
    "                'splitter': ['best','random']\n",
    "            }\n",
    "        }\n",
    "    }\n",
    "    scores = []\n",
    "    cv = ShuffleSplit(n_splits=5, test_size=0.3, random_state=0)\n",
    "    for algo_name, config in algos.items():\n",
    "        gs =  GridSearchCV(config['model'], config['params'], cv=cv, return_train_score=False)\n",
    "        gs.fit(X,y)\n",
    "        scores.append({\n",
    "            'model': algo_name,\n",
    "            'best_score': gs.best_score_,\n",
    "            'best_params': gs.best_params_\n",
    "        })\n",
    "\n",
    "    return pd.DataFrame(scores,columns=['model','best_score','best_params'])\n",
    "\n",
    "import warnings\n",
    "warnings.filterwarnings('ignore')\n",
    "\n",
    "find_best_model_using_gridsearchcv(X,y)"
   ]
  },
  {
   "cell_type": "markdown",
   "metadata": {},
   "source": [
    "### Here we got our best model is decision tree regressor with r-squared 0.964, higher than our linear regression before."
   ]
  }
 ],
 "metadata": {
  "kernelspec": {
   "display_name": "Python 3",
   "language": "python",
   "name": "python3"
  },
  "language_info": {
   "codemirror_mode": {
    "name": "ipython",
    "version": 3
   },
   "file_extension": ".py",
   "mimetype": "text/x-python",
   "name": "python",
   "nbconvert_exporter": "python",
   "pygments_lexer": "ipython3",
   "version": "3.8.8"
  }
 },
 "nbformat": 4,
 "nbformat_minor": 4
}
